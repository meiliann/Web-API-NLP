{
 "cells": [
  {
   "cell_type": "markdown",
   "id": "5Iez8jH-wjeR",
   "metadata": {
    "id": "5Iez8jH-wjeR"
   },
   "source": [
    "# Project 3 - Web APIs & NLP"
   ]
  },
  {
   "cell_type": "markdown",
   "id": "974a40b0",
   "metadata": {},
   "source": [
    "## Content"
   ]
  },
  {
   "cell_type": "markdown",
   "id": "de227e27",
   "metadata": {},
   "source": [
    "1. [Problem statement](#problem-statement)\n",
    "2. [Data collection](#Data-collection)\n",
    "3. [Data cleaning](#Data-cleaning)\n",
    "4. [EDA](#EDA)\n",
    "5. [Modeling](#Modeling)\n",
    "6. [Evaluation](#Evaluation)\n",
    "7. [Conclusions and recommendations](#Conclusions-and-recommendations)"
   ]
  },
  {
   "cell_type": "markdown",
   "id": "AYMBJHdvwtoj",
   "metadata": {
    "id": "AYMBJHdvwtoj"
   },
   "source": [
    "## Problem Statement"
   ]
  },
  {
   "cell_type": "markdown",
   "id": "2f9Osgyh6Ciz",
   "metadata": {
    "id": "2f9Osgyh6Ciz"
   },
   "source": [
    "WhatToWatch.com is a new platform for movie and tv shows lovers to share their reviews by posting on the community forum. <br>\n",
    "Currently, there's no category filter to differentiate the posts in the forum. To improve user experience, the marketing team would like to create two categories in the forum to separate the posts - Netflix posts and Amazon Prime Video posts. <br>\n",
    "This will allow users to read posts based on Netflix and Amazon Prime Video respectively as there's feedback that users are more keen to read posts of the platform they are using so they can see what movies or tv shows would same-platform users recommend. \n",
    "\n",
    "WhatToWatch company has approached Skippy's data science team, which I'm in, to help create and train a classification model that can classify posts into the correct category taking reference from the targeted subreddits - Netflix and Amazon Prime Video.<br>\n",
    "\n",
    "Our team pulled the data via PushShift API and selected 3 classification models to train the models. We will then chose the model with the best accuracy score since the data pulled are of equal classes. <br>\n",
    "\n",
    "With the best model selected, Skippy's data science team would be able to use it to segregate WhatToWatch.com forum posts into Netflix and Amazon Prime Video respectively and achieve WhatToWatch company's objective. And moving forward, the model will help them to automatically allocate new post to the correct category.<br>\n",
    "\n",
    "Our data science team can make use of this modeling to help with other clients' projects that requires classification  since the framework is already there."
   ]
  },
  {
   "cell_type": "markdown",
   "id": "6P36OsPixOha",
   "metadata": {
    "id": "6P36OsPixOha"
   },
   "source": [
    "## Importing libraries"
   ]
  },
  {
   "cell_type": "code",
   "execution_count": 1,
   "id": "EDZpelofxUMx",
   "metadata": {
    "id": "EDZpelofxUMx"
   },
   "outputs": [],
   "source": [
    "# imports\n",
    "import numpy as np\n",
    "import pandas as pd\n",
    "import matplotlib.pyplot as plt\n",
    "import requests\n",
    "import time\n",
    "import re\n",
    "import nltk\n",
    "\n",
    "from matplotlib_venn import venn2\n",
    "from nltk.stem import WordNetLemmatizer\n",
    "from nltk.corpus import wordnet, stopwords\n",
    "from nltk.tokenize import word_tokenize\n",
    "from nltk import pos_tag\n",
    "from sklearn.model_selection import train_test_split, GridSearchCV\n",
    "from sklearn.pipeline import Pipeline\n",
    "from sklearn.naive_bayes import MultinomialNB\n",
    "from sklearn.linear_model import LogisticRegression\n",
    "from sklearn.ensemble import RandomForestClassifier\n",
    "from sklearn.metrics import confusion_matrix, plot_confusion_matrix, accuracy_score, recall_score, precision_score\n",
    "from sklearn.feature_extraction.text import CountVectorizer, TfidfVectorizer\n",
    "\n",
    "%matplotlib inline"
   ]
  },
  {
   "cell_type": "markdown",
   "id": "2Esn3j5XBseV",
   "metadata": {
    "id": "2Esn3j5XBseV"
   },
   "source": [
    "## **Data collection**"
   ]
  },
  {
   "cell_type": "code",
   "execution_count": 2,
   "id": "DYH5qkkm-o7G",
   "metadata": {
    "id": "DYH5qkkm-o7G"
   },
   "outputs": [],
   "source": [
    "# create a function to pull posts per reddit\n",
    "\n",
    "def PushShiftdata(url, params, total_num=1000):\n",
    "    not_reach_total_num = True\n",
    "    res_list = []\n",
    "    current_num = 0\n",
    "\n",
    "    # while this is True:\n",
    "    while not_reach_total_num:\n",
    "\n",
    "        # using requests with pushshift api link to pull the data\n",
    "        res = requests.get(url, params) \n",
    "\n",
    "        # get the last row's date in every pull\n",
    "        params['before'] = res.json()['data'][-1]['created_utc']\n",
    "\n",
    "        # save the data in a dataframe with only subreddit, selftext and title columns\n",
    "        res = pd.DataFrame(res.json()['data'])\n",
    "        res = res.loc[:, ['subreddit', 'selftext', 'title']]\n",
    "\n",
    "        # append the data to the empty list created earlier\n",
    "        res_list.append(res)\n",
    "\n",
    "        # set time.sleep so it will pause awhile for every pull, else Pushshift might block me from pulling the data\n",
    "        time.sleep(3)\n",
    "\n",
    "        # count the number of rows\n",
    "        current_num = current_num + len(res)\n",
    "\n",
    "        if current_num >= total_num:\n",
    "            not_reach_total_num = False\n",
    "\n",
    "    res = pd.concat(res_list)\n",
    "    return res"
   ]
  },
  {
   "cell_type": "code",
   "execution_count": 3,
   "id": "ZaOk34209JRz",
   "metadata": {
    "colab": {
     "base_uri": "https://localhost:8080/",
     "height": 202
    },
    "id": "ZaOk34209JRz",
    "outputId": "378bea0b-37bd-4357-b093-75a1a9eecda0"
   },
   "outputs": [
    {
     "data": {
      "text/html": [
       "<div>\n",
       "<style scoped>\n",
       "    .dataframe tbody tr th:only-of-type {\n",
       "        vertical-align: middle;\n",
       "    }\n",
       "\n",
       "    .dataframe tbody tr th {\n",
       "        vertical-align: top;\n",
       "    }\n",
       "\n",
       "    .dataframe thead th {\n",
       "        text-align: right;\n",
       "    }\n",
       "</style>\n",
       "<table border=\"1\" class=\"dataframe\">\n",
       "  <thead>\n",
       "    <tr style=\"text-align: right;\">\n",
       "      <th></th>\n",
       "      <th>subreddit</th>\n",
       "      <th>selftext</th>\n",
       "      <th>title</th>\n",
       "    </tr>\n",
       "  </thead>\n",
       "  <tbody>\n",
       "    <tr>\n",
       "      <th>0</th>\n",
       "      <td>netflix</td>\n",
       "      <td>[removed]</td>\n",
       "      <td>Any movie or series recommendations</td>\n",
       "    </tr>\n",
       "    <tr>\n",
       "      <th>1</th>\n",
       "      <td>netflix</td>\n",
       "      <td>I want to download from Netflix, but not by ju...</td>\n",
       "      <td>Downloading</td>\n",
       "    </tr>\n",
       "    <tr>\n",
       "      <th>2</th>\n",
       "      <td>netflix</td>\n",
       "      <td>[removed]</td>\n",
       "      <td>Downloading</td>\n",
       "    </tr>\n",
       "    <tr>\n",
       "      <th>3</th>\n",
       "      <td>netflix</td>\n",
       "      <td></td>\n",
       "      <td>Season 5 of Kim's Convenience is now on Netflix.</td>\n",
       "    </tr>\n",
       "    <tr>\n",
       "      <th>4</th>\n",
       "      <td>netflix</td>\n",
       "      <td>I've used other people's Netflix accounts for ...</td>\n",
       "      <td>How do the Netflix subscription accounts work?</td>\n",
       "    </tr>\n",
       "  </tbody>\n",
       "</table>\n",
       "</div>"
      ],
      "text/plain": [
       "  subreddit                                           selftext  \\\n",
       "0   netflix                                          [removed]   \n",
       "1   netflix  I want to download from Netflix, but not by ju...   \n",
       "2   netflix                                          [removed]   \n",
       "3   netflix                                                      \n",
       "4   netflix  I've used other people's Netflix accounts for ...   \n",
       "\n",
       "                                              title  \n",
       "0               Any movie or series recommendations  \n",
       "1                                       Downloading  \n",
       "2                                       Downloading  \n",
       "3  Season 5 of Kim's Convenience is now on Netflix.  \n",
       "4    How do the Netflix subscription accounts work?  "
      ]
     },
     "execution_count": 3,
     "metadata": {},
     "output_type": "execute_result"
    }
   ],
   "source": [
    "# define the url to be used in the function\n",
    "url = 'https://api.pushshift.io/reddit/search/submission/'\n",
    "\n",
    "# set params to pull Netflix data, with 100 rows for every pull, before epoch time 1622642695\n",
    "netflix_params = dict(subreddit='netflix', size=100, before='1622642695')\n",
    "\n",
    "# apply the function to pull Netflix submissions \n",
    "netflix_df = PushShiftdata(url, netflix_params, 1000)\n",
    "netflix_df.head()"
   ]
  },
  {
   "cell_type": "code",
   "execution_count": 4,
   "id": "xd0U5yAZ9ija",
   "metadata": {
    "colab": {
     "base_uri": "https://localhost:8080/",
     "height": 202
    },
    "id": "xd0U5yAZ9ija",
    "outputId": "dbc873ea-acdf-4bc7-942e-a24f591bb1b1"
   },
   "outputs": [
    {
     "data": {
      "text/html": [
       "<div>\n",
       "<style scoped>\n",
       "    .dataframe tbody tr th:only-of-type {\n",
       "        vertical-align: middle;\n",
       "    }\n",
       "\n",
       "    .dataframe tbody tr th {\n",
       "        vertical-align: top;\n",
       "    }\n",
       "\n",
       "    .dataframe thead th {\n",
       "        text-align: right;\n",
       "    }\n",
       "</style>\n",
       "<table border=\"1\" class=\"dataframe\">\n",
       "  <thead>\n",
       "    <tr style=\"text-align: right;\">\n",
       "      <th></th>\n",
       "      <th>subreddit</th>\n",
       "      <th>selftext</th>\n",
       "      <th>title</th>\n",
       "    </tr>\n",
       "  </thead>\n",
       "  <tbody>\n",
       "    <tr>\n",
       "      <th>0</th>\n",
       "      <td>AmazonPrimeVideo</td>\n",
       "      <td>[removed]</td>\n",
       "      <td>Different video selections on different devices</td>\n",
       "    </tr>\n",
       "    <tr>\n",
       "      <th>1</th>\n",
       "      <td>AmazonPrimeVideo</td>\n",
       "      <td>I can't find the English sub or dub version fo...</td>\n",
       "      <td>Can't find the English version for Naruto (Can...</td>\n",
       "    </tr>\n",
       "    <tr>\n",
       "      <th>2</th>\n",
       "      <td>AmazonPrimeVideo</td>\n",
       "      <td></td>\n",
       "      <td>Mary J Blige's My Life - Official Trailer | Pr...</td>\n",
       "    </tr>\n",
       "    <tr>\n",
       "      <th>3</th>\n",
       "      <td>AmazonPrimeVideo</td>\n",
       "      <td></td>\n",
       "      <td>Producers on Amazon's 'Prisma' Where Twins Cha...</td>\n",
       "    </tr>\n",
       "    <tr>\n",
       "      <th>4</th>\n",
       "      <td>AmazonPrimeVideo</td>\n",
       "      <td>New to prime video im watching “the office”. I...</td>\n",
       "      <td>Prime Video is skipping episodes and seasons!</td>\n",
       "    </tr>\n",
       "  </tbody>\n",
       "</table>\n",
       "</div>"
      ],
      "text/plain": [
       "          subreddit                                           selftext  \\\n",
       "0  AmazonPrimeVideo                                          [removed]   \n",
       "1  AmazonPrimeVideo  I can't find the English sub or dub version fo...   \n",
       "2  AmazonPrimeVideo                                                      \n",
       "3  AmazonPrimeVideo                                                      \n",
       "4  AmazonPrimeVideo  New to prime video im watching “the office”. I...   \n",
       "\n",
       "                                               title  \n",
       "0    Different video selections on different devices  \n",
       "1  Can't find the English version for Naruto (Can...  \n",
       "2  Mary J Blige's My Life - Official Trailer | Pr...  \n",
       "3  Producers on Amazon's 'Prisma' Where Twins Cha...  \n",
       "4      Prime Video is skipping episodes and seasons!  "
      ]
     },
     "execution_count": 4,
     "metadata": {},
     "output_type": "execute_result"
    }
   ],
   "source": [
    "# set params to pull AmazonPrimeVideo data, with 100 rows for every pull, before epoch time 1622642695\n",
    "amazon_params = dict(subreddit='AmazonPrimeVideo', size=100, before='1622642695')\n",
    "\n",
    "# apply the function to pull AmazonPrimeVideo submissions \n",
    "amazon_df = PushShiftdata(url, amazon_params, 1000)\n",
    "amazon_df.head()"
   ]
  },
  {
   "cell_type": "markdown",
   "id": "Qeoi0cupxBKO",
   "metadata": {
    "id": "Qeoi0cupxBKO"
   },
   "source": [
    "I have created a fucntion to pull data using the PushShift API. As I can only pull 100 rows each time, a custom function is necessary to gather more data. Using the function, I pulled 1000 rows of 'selftext' and 'title' for each subreddit."
   ]
  },
  {
   "cell_type": "markdown",
   "id": "Qh4lrDpyFz55",
   "metadata": {
    "id": "Qh4lrDpyFz55"
   },
   "source": [
    "## **Data cleaning**"
   ]
  },
  {
   "cell_type": "markdown",
   "id": "pJIOE7a7qtT5",
   "metadata": {
    "id": "pJIOE7a7qtT5"
   },
   "source": [
    "**Missing values**<br>\n",
    "There are missing values in 'selftext' column as seen above which is okay since there's data in 'title' column. <br>\n",
    "There are some selftext that were removed or deleted, so I will remove them first.\n",
    "\n",
    "**Outliers**<br>\n",
    "In NLP, outliers doesn't exist since we are dealing with words but if there is, I would say it's those non-English words and also numerical values."
   ]
  },
  {
   "cell_type": "code",
   "execution_count": 5,
   "id": "n2d0f-LVM80f",
   "metadata": {
    "id": "n2d0f-LVM80f"
   },
   "outputs": [],
   "source": [
    "# create a function to clean the data\n",
    "def clean_data(df):\n",
    "\n",
    "    # remove [removed] and [deleted]\n",
    "    df = df.replace('[removed]', '')\n",
    "    df = df.replace('[deleted]', '')\n",
    "\n",
    "    # combine 'selftext' + 'title' to form a new column then drop them\n",
    "    df['text'] = df['selftext'] + df['title']\n",
    "    df.drop(['selftext', 'title'], axis=1, inplace=True)\n",
    "\n",
    "    # drop null values and duplicate rows\n",
    "    df = df.dropna().drop_duplicates()\n",
    "\n",
    "    # convert the text to all lowercase \n",
    "    #(CountVectorizer & TF-IDF Vectorizer default setting do this but I will just do it anyway)\n",
    "    df['text'] = df['text'].str.lower()\n",
    "\n",
    "    return df"
   ]
  },
  {
   "cell_type": "markdown",
   "id": "DU96gn8ryEcc",
   "metadata": {
    "id": "DU96gn8ryEcc"
   },
   "source": [
    "The function above cleans the data by removing '[removed]' and '[deleted]', then combine both 'selftext' and 'title' column before dropping null values and duplicate values. I have also converted the text to all lowercase as well though CountVectorizer and TF-IDF Vectorizer do it."
   ]
  },
  {
   "cell_type": "code",
   "execution_count": 6,
   "id": "KrGFUbOpmRYU",
   "metadata": {
    "id": "KrGFUbOpmRYU"
   },
   "outputs": [],
   "source": [
    "def pos_tag_wordnet(text):\n",
    "\n",
    "    # keep only alphabets\n",
    "    text = re.sub(r'[^a-z]', ' ', text)\n",
    "\n",
    "    # remove stopwords before lemmatize to minimise cases such as 'was' --> 'wa'\n",
    "    stop_words = stopwords.words('english')\n",
    "    stop_words.extend(['blah', 'www', 'http'])\n",
    "\n",
    "    words = text.split()\n",
    "\n",
    "    full_text = ''\n",
    "    for word in words:\n",
    "        if word not in stop_words:\n",
    "            full_text += word + ' '\n",
    "\n",
    "    # create a list of wordnet output\n",
    "    wordnet_map = {\n",
    "      \"N\": wordnet.NOUN,\n",
    "      \"V\": wordnet.VERB,\n",
    "      \"J\": wordnet.ADJ,\n",
    "      \"R\": wordnet.ADV\n",
    "    }\n",
    "\n",
    "    # tokenize the words and determine the correct Part of speech(POS) tag for every word. \n",
    "    # Eg: ('the', 'DT'), ('cat', 'NN')\n",
    "    pos_tagged_text = nltk.pos_tag(nltk.word_tokenize(full_text))\n",
    "\n",
    "    # replace the POS tag with wordnet map dictionary created above\n",
    "    pos_tagged_text = [\n",
    "          (word, wordnet_map.get(pos_tag[0])) if pos_tag[0] in wordnet_map.keys()\n",
    "          else (word, wordnet.NOUN)\n",
    "          for (word, pos_tag) in pos_tagged_text]\n",
    "\n",
    "    lemmatizer = WordNetLemmatizer()\n",
    "    lemmatized_sentence = \" \"\n",
    "\n",
    "    for word, tag in pos_tagged_text:\n",
    "        lemmatized_sentence += (lemmatizer.lemmatize(word, tag) + ' ')\n",
    "\n",
    "    return lemmatized_sentence"
   ]
  },
  {
   "cell_type": "markdown",
   "id": "z0YjXy4nyhPg",
   "metadata": {
    "id": "z0YjXy4nyhPg"
   },
   "source": [
    "I have created another function to clean the data further.<br>\n",
    "There are non-English words and numerical values that are not useful for modeling later on. So I used RegEx to keep only alphabets.<br>\n",
    "I have included extra stop words as I found that it appears when I vectorize using bigram.<br>\n",
    "I remove the stopwords before lemmatizing to minimise word not lemmatized correctly. <br>\n",
    "Lemmatizing prevents counting instances of the root word (such as 'watch', 'watched', 'watches') separately. <br>\n",
    "In order to lemmatize correctly based of part-of-speech tagging, I created a dictionary to map the POS tag."
   ]
  },
  {
   "cell_type": "code",
   "execution_count": 7,
   "id": "miwQSP9QRMoC",
   "metadata": {
    "id": "miwQSP9QRMoC"
   },
   "outputs": [],
   "source": [
    "# apply both functions to the dataframe\n",
    "netflix_df = clean_data(netflix_df)\n",
    "netflix_df['text'] = netflix_df['text'].apply(pos_tag_wordnet)\n",
    "\n",
    "amazon_df = clean_data(amazon_df)\n",
    "amazon_df['text'] = amazon_df['text'].apply(pos_tag_wordnet)"
   ]
  },
  {
   "cell_type": "code",
   "execution_count": 8,
   "id": "AuO1pUIy_g-6",
   "metadata": {
    "colab": {
     "base_uri": "https://localhost:8080/",
     "height": 202
    },
    "id": "AuO1pUIy_g-6",
    "outputId": "7918ee89-f2e3-427c-97a3-0882e957b8d4"
   },
   "outputs": [
    {
     "data": {
      "text/html": [
       "<div>\n",
       "<style scoped>\n",
       "    .dataframe tbody tr th:only-of-type {\n",
       "        vertical-align: middle;\n",
       "    }\n",
       "\n",
       "    .dataframe tbody tr th {\n",
       "        vertical-align: top;\n",
       "    }\n",
       "\n",
       "    .dataframe thead th {\n",
       "        text-align: right;\n",
       "    }\n",
       "</style>\n",
       "<table border=\"1\" class=\"dataframe\">\n",
       "  <thead>\n",
       "    <tr style=\"text-align: right;\">\n",
       "      <th></th>\n",
       "      <th>subreddit</th>\n",
       "      <th>text</th>\n",
       "    </tr>\n",
       "  </thead>\n",
       "  <tbody>\n",
       "    <tr>\n",
       "      <th>0</th>\n",
       "      <td>netflix</td>\n",
       "      <td>movie series recommendation</td>\n",
       "    </tr>\n",
       "    <tr>\n",
       "      <th>1</th>\n",
       "      <td>netflix</td>\n",
       "      <td>want download netflix download netflix want d...</td>\n",
       "    </tr>\n",
       "    <tr>\n",
       "      <th>2</th>\n",
       "      <td>netflix</td>\n",
       "      <td>download</td>\n",
       "    </tr>\n",
       "    <tr>\n",
       "      <th>3</th>\n",
       "      <td>netflix</td>\n",
       "      <td>season kim convenience netflix</td>\n",
       "    </tr>\n",
       "    <tr>\n",
       "      <th>4</th>\n",
       "      <td>netflix</td>\n",
       "      <td>use people netflix account long time friend n...</td>\n",
       "    </tr>\n",
       "  </tbody>\n",
       "</table>\n",
       "</div>"
      ],
      "text/plain": [
       "  subreddit                                               text\n",
       "0   netflix                       movie series recommendation \n",
       "1   netflix   want download netflix download netflix want d...\n",
       "2   netflix                                          download \n",
       "3   netflix                    season kim convenience netflix \n",
       "4   netflix   use people netflix account long time friend n..."
      ]
     },
     "execution_count": 8,
     "metadata": {},
     "output_type": "execute_result"
    }
   ],
   "source": [
    "# check out Netflix data\n",
    "netflix_df.head()"
   ]
  },
  {
   "cell_type": "code",
   "execution_count": 9,
   "id": "s-SITIsOF75e",
   "metadata": {
    "colab": {
     "base_uri": "https://localhost:8080/",
     "height": 202
    },
    "id": "s-SITIsOF75e",
    "outputId": "88b25917-f9ef-434a-aa5b-c89c4b795550"
   },
   "outputs": [
    {
     "data": {
      "text/html": [
       "<div>\n",
       "<style scoped>\n",
       "    .dataframe tbody tr th:only-of-type {\n",
       "        vertical-align: middle;\n",
       "    }\n",
       "\n",
       "    .dataframe tbody tr th {\n",
       "        vertical-align: top;\n",
       "    }\n",
       "\n",
       "    .dataframe thead th {\n",
       "        text-align: right;\n",
       "    }\n",
       "</style>\n",
       "<table border=\"1\" class=\"dataframe\">\n",
       "  <thead>\n",
       "    <tr style=\"text-align: right;\">\n",
       "      <th></th>\n",
       "      <th>subreddit</th>\n",
       "      <th>text</th>\n",
       "    </tr>\n",
       "  </thead>\n",
       "  <tbody>\n",
       "    <tr>\n",
       "      <th>0</th>\n",
       "      <td>AmazonPrimeVideo</td>\n",
       "      <td>different video selection different device</td>\n",
       "    </tr>\n",
       "    <tr>\n",
       "      <th>1</th>\n",
       "      <td>AmazonPrimeVideo</td>\n",
       "      <td>find english sub dub version naruto naruto re...</td>\n",
       "    </tr>\n",
       "    <tr>\n",
       "      <th>2</th>\n",
       "      <td>AmazonPrimeVideo</td>\n",
       "      <td>mary j blige life official trailer prime video</td>\n",
       "    </tr>\n",
       "    <tr>\n",
       "      <th>3</th>\n",
       "      <td>AmazonPrimeVideo</td>\n",
       "      <td>producer amazon prisma twin challenge gender ...</td>\n",
       "    </tr>\n",
       "    <tr>\n",
       "      <th>4</th>\n",
       "      <td>AmazonPrimeVideo</td>\n",
       "      <td>new prime video im watch office always press ...</td>\n",
       "    </tr>\n",
       "  </tbody>\n",
       "</table>\n",
       "</div>"
      ],
      "text/plain": [
       "          subreddit                                               text\n",
       "0  AmazonPrimeVideo        different video selection different device \n",
       "1  AmazonPrimeVideo   find english sub dub version naruto naruto re...\n",
       "2  AmazonPrimeVideo    mary j blige life official trailer prime video \n",
       "3  AmazonPrimeVideo   producer amazon prisma twin challenge gender ...\n",
       "4  AmazonPrimeVideo   new prime video im watch office always press ..."
      ]
     },
     "execution_count": 9,
     "metadata": {},
     "output_type": "execute_result"
    }
   ],
   "source": [
    "# check out AmazonPrimeVideo data\n",
    "amazon_df.head()"
   ]
  },
  {
   "cell_type": "code",
   "execution_count": 10,
   "id": "rJ5V580fQSSl",
   "metadata": {
    "colab": {
     "base_uri": "https://localhost:8080/"
    },
    "id": "rJ5V580fQSSl",
    "outputId": "feafb513-c21b-4f2f-d902-67452a52241e"
   },
   "outputs": [
    {
     "name": "stdout",
     "output_type": "stream",
     "text": [
      "Netflix: (964, 2)\n",
      "Amazon: (985, 2)\n"
     ]
    }
   ],
   "source": [
    "# check the number of rows and columns \n",
    "print(f'Netflix: {netflix_df.shape}')\n",
    "print(f'Amazon: {amazon_df.shape}')"
   ]
  },
  {
   "cell_type": "markdown",
   "id": "50262b22",
   "metadata": {},
   "source": [
    "#### Save the cleaned dataframes as csv files"
   ]
  },
  {
   "cell_type": "code",
   "execution_count": 11,
   "id": "19aede8d",
   "metadata": {},
   "outputs": [],
   "source": [
    "netflix_df.to_csv('../data/netflix_df.csv')\n",
    "amazon_df.to_csv('../data/amazon_df.csv')"
   ]
  },
  {
   "cell_type": "markdown",
   "id": "Rnw8ccG6WXTp",
   "metadata": {
    "id": "Rnw8ccG6WXTp"
   },
   "source": [
    "## **EDA**"
   ]
  },
  {
   "cell_type": "markdown",
   "id": "Eoz9HCY9zJWe",
   "metadata": {
    "id": "Eoz9HCY9zJWe"
   },
   "source": [
    "### **CountVectorizer (unigrams and bigrams)**"
   ]
  },
  {
   "cell_type": "markdown",
   "id": "UyvmV5Q3PVHp",
   "metadata": {
    "id": "UyvmV5Q3PVHp"
   },
   "source": [
    "I'm creating a function to vectorize using ngram_range=(1,2), with and without stopwords so we can later use the dataframe to plot the top occuring words."
   ]
  },
  {
   "cell_type": "code",
   "execution_count": 12,
   "id": "cq9KYofHSB5H",
   "metadata": {
    "id": "cq9KYofHSB5H"
   },
   "outputs": [],
   "source": [
    "# create a function to vectorize the data\n",
    "\n",
    "def vectorizer_df(df, vectorizer):\n",
    "\n",
    "    # Instantiate CountVectorizer\n",
    "    vec = vectorizer(ngram_range= (1, 2))\n",
    "\n",
    "    # convert data to dataframe\n",
    "    df_vec = pd.DataFrame(vec.fit_transform(df['text']).todense(), \n",
    "                            columns=vec.get_feature_names())\n",
    "\n",
    "    # Instantiate CountVectorizer, excluding stopwords again as there might be different results after lemmatizing in the previous function. And using ngram_range(1,2) to explore the data\n",
    "    vec = vectorizer(stop_words = 'english', ngram_range= (1, 2))\n",
    "\n",
    "    # convert data to dataframe\n",
    "    df_vec_stopwords = pd.DataFrame(vec.fit_transform(df['text']).todense(), \n",
    "                            columns=vec.get_feature_names())\n",
    "\n",
    "    return df_vec, df_vec_stopwords"
   ]
  },
  {
   "cell_type": "code",
   "execution_count": 13,
   "id": "HWlKnNZpSUDr",
   "metadata": {
    "colab": {
     "base_uri": "https://localhost:8080/",
     "height": 202
    },
    "id": "HWlKnNZpSUDr",
    "outputId": "8b59e621-b17d-4adb-eeb5-72f64a5108f9"
   },
   "outputs": [
    {
     "data": {
      "text/html": [
       "<div>\n",
       "<style scoped>\n",
       "    .dataframe tbody tr th:only-of-type {\n",
       "        vertical-align: middle;\n",
       "    }\n",
       "\n",
       "    .dataframe tbody tr th {\n",
       "        vertical-align: top;\n",
       "    }\n",
       "\n",
       "    .dataframe thead th {\n",
       "        text-align: right;\n",
       "    }\n",
       "</style>\n",
       "<table border=\"1\" class=\"dataframe\">\n",
       "  <thead>\n",
       "    <tr style=\"text-align: right;\">\n",
       "      <th></th>\n",
       "      <th>aaron</th>\n",
       "      <th>aaron paul</th>\n",
       "      <th>aback</th>\n",
       "      <th>aback disappointing</th>\n",
       "      <th>abandon</th>\n",
       "      <th>abandon story</th>\n",
       "      <th>abduction</th>\n",
       "      <th>abduction lisa</th>\n",
       "      <th>ability</th>\n",
       "      <th>ability bring</th>\n",
       "    </tr>\n",
       "  </thead>\n",
       "  <tbody>\n",
       "    <tr>\n",
       "      <th>0</th>\n",
       "      <td>0</td>\n",
       "      <td>0</td>\n",
       "      <td>0</td>\n",
       "      <td>0</td>\n",
       "      <td>0</td>\n",
       "      <td>0</td>\n",
       "      <td>0</td>\n",
       "      <td>0</td>\n",
       "      <td>0</td>\n",
       "      <td>0</td>\n",
       "    </tr>\n",
       "    <tr>\n",
       "      <th>1</th>\n",
       "      <td>0</td>\n",
       "      <td>0</td>\n",
       "      <td>0</td>\n",
       "      <td>0</td>\n",
       "      <td>0</td>\n",
       "      <td>0</td>\n",
       "      <td>0</td>\n",
       "      <td>0</td>\n",
       "      <td>0</td>\n",
       "      <td>0</td>\n",
       "    </tr>\n",
       "    <tr>\n",
       "      <th>2</th>\n",
       "      <td>0</td>\n",
       "      <td>0</td>\n",
       "      <td>0</td>\n",
       "      <td>0</td>\n",
       "      <td>0</td>\n",
       "      <td>0</td>\n",
       "      <td>0</td>\n",
       "      <td>0</td>\n",
       "      <td>0</td>\n",
       "      <td>0</td>\n",
       "    </tr>\n",
       "    <tr>\n",
       "      <th>3</th>\n",
       "      <td>0</td>\n",
       "      <td>0</td>\n",
       "      <td>0</td>\n",
       "      <td>0</td>\n",
       "      <td>0</td>\n",
       "      <td>0</td>\n",
       "      <td>0</td>\n",
       "      <td>0</td>\n",
       "      <td>0</td>\n",
       "      <td>0</td>\n",
       "    </tr>\n",
       "    <tr>\n",
       "      <th>4</th>\n",
       "      <td>0</td>\n",
       "      <td>0</td>\n",
       "      <td>0</td>\n",
       "      <td>0</td>\n",
       "      <td>0</td>\n",
       "      <td>0</td>\n",
       "      <td>0</td>\n",
       "      <td>0</td>\n",
       "      <td>0</td>\n",
       "      <td>0</td>\n",
       "    </tr>\n",
       "  </tbody>\n",
       "</table>\n",
       "</div>"
      ],
      "text/plain": [
       "   aaron  aaron paul  aback  aback disappointing  abandon  abandon story  \\\n",
       "0      0           0      0                    0        0              0   \n",
       "1      0           0      0                    0        0              0   \n",
       "2      0           0      0                    0        0              0   \n",
       "3      0           0      0                    0        0              0   \n",
       "4      0           0      0                    0        0              0   \n",
       "\n",
       "   abduction  abduction lisa  ability  ability bring  \n",
       "0          0               0        0              0  \n",
       "1          0               0        0              0  \n",
       "2          0               0        0              0  \n",
       "3          0               0        0              0  \n",
       "4          0               0        0              0  "
      ]
     },
     "execution_count": 13,
     "metadata": {},
     "output_type": "execute_result"
    }
   ],
   "source": [
    "# input netflix dataframe into the function \n",
    "netflix_cvec, netflix_cvec_stopwords = vectorizer_df(netflix_df, CountVectorizer)\n",
    "\n",
    "# check out the first 5 rows and 10 columns \n",
    "netflix_cvec.iloc[:5, :10]"
   ]
  },
  {
   "cell_type": "code",
   "execution_count": 14,
   "id": "AiiFak13es6M",
   "metadata": {
    "colab": {
     "base_uri": "https://localhost:8080/",
     "height": 202
    },
    "id": "AiiFak13es6M",
    "outputId": "576e5b87-229f-4f4f-95b8-d41348d00e5f"
   },
   "outputs": [
    {
     "data": {
      "text/html": [
       "<div>\n",
       "<style scoped>\n",
       "    .dataframe tbody tr th:only-of-type {\n",
       "        vertical-align: middle;\n",
       "    }\n",
       "\n",
       "    .dataframe tbody tr th {\n",
       "        vertical-align: top;\n",
       "    }\n",
       "\n",
       "    .dataframe thead th {\n",
       "        text-align: right;\n",
       "    }\n",
       "</style>\n",
       "<table border=\"1\" class=\"dataframe\">\n",
       "  <thead>\n",
       "    <tr style=\"text-align: right;\">\n",
       "      <th></th>\n",
       "      <th>aaron</th>\n",
       "      <th>aaron paul</th>\n",
       "      <th>aback</th>\n",
       "      <th>aback disappointing</th>\n",
       "      <th>abandon</th>\n",
       "      <th>abandon story</th>\n",
       "      <th>abduction</th>\n",
       "      <th>abduction lisa</th>\n",
       "      <th>ability</th>\n",
       "      <th>ability bring</th>\n",
       "    </tr>\n",
       "  </thead>\n",
       "  <tbody>\n",
       "    <tr>\n",
       "      <th>0</th>\n",
       "      <td>0</td>\n",
       "      <td>0</td>\n",
       "      <td>0</td>\n",
       "      <td>0</td>\n",
       "      <td>0</td>\n",
       "      <td>0</td>\n",
       "      <td>0</td>\n",
       "      <td>0</td>\n",
       "      <td>0</td>\n",
       "      <td>0</td>\n",
       "    </tr>\n",
       "    <tr>\n",
       "      <th>1</th>\n",
       "      <td>0</td>\n",
       "      <td>0</td>\n",
       "      <td>0</td>\n",
       "      <td>0</td>\n",
       "      <td>0</td>\n",
       "      <td>0</td>\n",
       "      <td>0</td>\n",
       "      <td>0</td>\n",
       "      <td>0</td>\n",
       "      <td>0</td>\n",
       "    </tr>\n",
       "    <tr>\n",
       "      <th>2</th>\n",
       "      <td>0</td>\n",
       "      <td>0</td>\n",
       "      <td>0</td>\n",
       "      <td>0</td>\n",
       "      <td>0</td>\n",
       "      <td>0</td>\n",
       "      <td>0</td>\n",
       "      <td>0</td>\n",
       "      <td>0</td>\n",
       "      <td>0</td>\n",
       "    </tr>\n",
       "    <tr>\n",
       "      <th>3</th>\n",
       "      <td>0</td>\n",
       "      <td>0</td>\n",
       "      <td>0</td>\n",
       "      <td>0</td>\n",
       "      <td>0</td>\n",
       "      <td>0</td>\n",
       "      <td>0</td>\n",
       "      <td>0</td>\n",
       "      <td>0</td>\n",
       "      <td>0</td>\n",
       "    </tr>\n",
       "    <tr>\n",
       "      <th>4</th>\n",
       "      <td>0</td>\n",
       "      <td>0</td>\n",
       "      <td>0</td>\n",
       "      <td>0</td>\n",
       "      <td>0</td>\n",
       "      <td>0</td>\n",
       "      <td>0</td>\n",
       "      <td>0</td>\n",
       "      <td>0</td>\n",
       "      <td>0</td>\n",
       "    </tr>\n",
       "  </tbody>\n",
       "</table>\n",
       "</div>"
      ],
      "text/plain": [
       "   aaron  aaron paul  aback  aback disappointing  abandon  abandon story  \\\n",
       "0      0           0      0                    0        0              0   \n",
       "1      0           0      0                    0        0              0   \n",
       "2      0           0      0                    0        0              0   \n",
       "3      0           0      0                    0        0              0   \n",
       "4      0           0      0                    0        0              0   \n",
       "\n",
       "   abduction  abduction lisa  ability  ability bring  \n",
       "0          0               0        0              0  \n",
       "1          0               0        0              0  \n",
       "2          0               0        0              0  \n",
       "3          0               0        0              0  \n",
       "4          0               0        0              0  "
      ]
     },
     "execution_count": 14,
     "metadata": {},
     "output_type": "execute_result"
    }
   ],
   "source": [
    "# check out the first 5 rows and 10 columns excluding stopwords\n",
    "netflix_cvec_stopwords.iloc[:5, :10]"
   ]
  },
  {
   "cell_type": "code",
   "execution_count": 15,
   "id": "NNMzWcT_gc9z",
   "metadata": {
    "colab": {
     "base_uri": "https://localhost:8080/",
     "height": 202
    },
    "id": "NNMzWcT_gc9z",
    "outputId": "63ad503c-6b38-47c5-821b-ee304f3270b1"
   },
   "outputs": [
    {
     "data": {
      "text/html": [
       "<div>\n",
       "<style scoped>\n",
       "    .dataframe tbody tr th:only-of-type {\n",
       "        vertical-align: middle;\n",
       "    }\n",
       "\n",
       "    .dataframe tbody tr th {\n",
       "        vertical-align: top;\n",
       "    }\n",
       "\n",
       "    .dataframe thead th {\n",
       "        text-align: right;\n",
       "    }\n",
       "</style>\n",
       "<table border=\"1\" class=\"dataframe\">\n",
       "  <thead>\n",
       "    <tr style=\"text-align: right;\">\n",
       "      <th></th>\n",
       "      <th>aaron</th>\n",
       "      <th>aaron love</th>\n",
       "      <th>aaye</th>\n",
       "      <th>aaye lyric</th>\n",
       "      <th>ab</th>\n",
       "      <th>ab disgrace</th>\n",
       "      <th>abbey</th>\n",
       "      <th>abbey prime</th>\n",
       "      <th>abbey speed</th>\n",
       "      <th>abduction</th>\n",
       "    </tr>\n",
       "  </thead>\n",
       "  <tbody>\n",
       "    <tr>\n",
       "      <th>0</th>\n",
       "      <td>0</td>\n",
       "      <td>0</td>\n",
       "      <td>0</td>\n",
       "      <td>0</td>\n",
       "      <td>0</td>\n",
       "      <td>0</td>\n",
       "      <td>0</td>\n",
       "      <td>0</td>\n",
       "      <td>0</td>\n",
       "      <td>0</td>\n",
       "    </tr>\n",
       "    <tr>\n",
       "      <th>1</th>\n",
       "      <td>0</td>\n",
       "      <td>0</td>\n",
       "      <td>0</td>\n",
       "      <td>0</td>\n",
       "      <td>0</td>\n",
       "      <td>0</td>\n",
       "      <td>0</td>\n",
       "      <td>0</td>\n",
       "      <td>0</td>\n",
       "      <td>0</td>\n",
       "    </tr>\n",
       "    <tr>\n",
       "      <th>2</th>\n",
       "      <td>0</td>\n",
       "      <td>0</td>\n",
       "      <td>0</td>\n",
       "      <td>0</td>\n",
       "      <td>0</td>\n",
       "      <td>0</td>\n",
       "      <td>0</td>\n",
       "      <td>0</td>\n",
       "      <td>0</td>\n",
       "      <td>0</td>\n",
       "    </tr>\n",
       "    <tr>\n",
       "      <th>3</th>\n",
       "      <td>0</td>\n",
       "      <td>0</td>\n",
       "      <td>0</td>\n",
       "      <td>0</td>\n",
       "      <td>0</td>\n",
       "      <td>0</td>\n",
       "      <td>0</td>\n",
       "      <td>0</td>\n",
       "      <td>0</td>\n",
       "      <td>0</td>\n",
       "    </tr>\n",
       "    <tr>\n",
       "      <th>4</th>\n",
       "      <td>0</td>\n",
       "      <td>0</td>\n",
       "      <td>0</td>\n",
       "      <td>0</td>\n",
       "      <td>0</td>\n",
       "      <td>0</td>\n",
       "      <td>0</td>\n",
       "      <td>0</td>\n",
       "      <td>0</td>\n",
       "      <td>0</td>\n",
       "    </tr>\n",
       "  </tbody>\n",
       "</table>\n",
       "</div>"
      ],
      "text/plain": [
       "   aaron  aaron love  aaye  aaye lyric  ab  ab disgrace  abbey  abbey prime  \\\n",
       "0      0           0     0           0   0            0      0            0   \n",
       "1      0           0     0           0   0            0      0            0   \n",
       "2      0           0     0           0   0            0      0            0   \n",
       "3      0           0     0           0   0            0      0            0   \n",
       "4      0           0     0           0   0            0      0            0   \n",
       "\n",
       "   abbey speed  abduction  \n",
       "0            0          0  \n",
       "1            0          0  \n",
       "2            0          0  \n",
       "3            0          0  \n",
       "4            0          0  "
      ]
     },
     "execution_count": 15,
     "metadata": {},
     "output_type": "execute_result"
    }
   ],
   "source": [
    "# input amazon dataframe into the function \n",
    "amazon_cvec, amazon_cvec_stopwords = vectorizer_df(amazon_df, CountVectorizer)\n",
    "\n",
    "# check out the first 5 rows and 10 columns\n",
    "amazon_cvec.iloc[:5, :10]"
   ]
  },
  {
   "cell_type": "code",
   "execution_count": 16,
   "id": "p9W2hccTkEpY",
   "metadata": {
    "colab": {
     "base_uri": "https://localhost:8080/",
     "height": 202
    },
    "id": "p9W2hccTkEpY",
    "outputId": "10253eec-185b-4a3b-deec-71038a0a0503"
   },
   "outputs": [
    {
     "data": {
      "text/html": [
       "<div>\n",
       "<style scoped>\n",
       "    .dataframe tbody tr th:only-of-type {\n",
       "        vertical-align: middle;\n",
       "    }\n",
       "\n",
       "    .dataframe tbody tr th {\n",
       "        vertical-align: top;\n",
       "    }\n",
       "\n",
       "    .dataframe thead th {\n",
       "        text-align: right;\n",
       "    }\n",
       "</style>\n",
       "<table border=\"1\" class=\"dataframe\">\n",
       "  <thead>\n",
       "    <tr style=\"text-align: right;\">\n",
       "      <th></th>\n",
       "      <th>aaron</th>\n",
       "      <th>aaron love</th>\n",
       "      <th>aaye</th>\n",
       "      <th>aaye lyric</th>\n",
       "      <th>ab</th>\n",
       "      <th>ab disgrace</th>\n",
       "      <th>abbey</th>\n",
       "      <th>abbey prime</th>\n",
       "      <th>abbey speed</th>\n",
       "      <th>abduction</th>\n",
       "    </tr>\n",
       "  </thead>\n",
       "  <tbody>\n",
       "    <tr>\n",
       "      <th>0</th>\n",
       "      <td>0</td>\n",
       "      <td>0</td>\n",
       "      <td>0</td>\n",
       "      <td>0</td>\n",
       "      <td>0</td>\n",
       "      <td>0</td>\n",
       "      <td>0</td>\n",
       "      <td>0</td>\n",
       "      <td>0</td>\n",
       "      <td>0</td>\n",
       "    </tr>\n",
       "    <tr>\n",
       "      <th>1</th>\n",
       "      <td>0</td>\n",
       "      <td>0</td>\n",
       "      <td>0</td>\n",
       "      <td>0</td>\n",
       "      <td>0</td>\n",
       "      <td>0</td>\n",
       "      <td>0</td>\n",
       "      <td>0</td>\n",
       "      <td>0</td>\n",
       "      <td>0</td>\n",
       "    </tr>\n",
       "    <tr>\n",
       "      <th>2</th>\n",
       "      <td>0</td>\n",
       "      <td>0</td>\n",
       "      <td>0</td>\n",
       "      <td>0</td>\n",
       "      <td>0</td>\n",
       "      <td>0</td>\n",
       "      <td>0</td>\n",
       "      <td>0</td>\n",
       "      <td>0</td>\n",
       "      <td>0</td>\n",
       "    </tr>\n",
       "    <tr>\n",
       "      <th>3</th>\n",
       "      <td>0</td>\n",
       "      <td>0</td>\n",
       "      <td>0</td>\n",
       "      <td>0</td>\n",
       "      <td>0</td>\n",
       "      <td>0</td>\n",
       "      <td>0</td>\n",
       "      <td>0</td>\n",
       "      <td>0</td>\n",
       "      <td>0</td>\n",
       "    </tr>\n",
       "    <tr>\n",
       "      <th>4</th>\n",
       "      <td>0</td>\n",
       "      <td>0</td>\n",
       "      <td>0</td>\n",
       "      <td>0</td>\n",
       "      <td>0</td>\n",
       "      <td>0</td>\n",
       "      <td>0</td>\n",
       "      <td>0</td>\n",
       "      <td>0</td>\n",
       "      <td>0</td>\n",
       "    </tr>\n",
       "  </tbody>\n",
       "</table>\n",
       "</div>"
      ],
      "text/plain": [
       "   aaron  aaron love  aaye  aaye lyric  ab  ab disgrace  abbey  abbey prime  \\\n",
       "0      0           0     0           0   0            0      0            0   \n",
       "1      0           0     0           0   0            0      0            0   \n",
       "2      0           0     0           0   0            0      0            0   \n",
       "3      0           0     0           0   0            0      0            0   \n",
       "4      0           0     0           0   0            0      0            0   \n",
       "\n",
       "   abbey speed  abduction  \n",
       "0            0          0  \n",
       "1            0          0  \n",
       "2            0          0  \n",
       "3            0          0  \n",
       "4            0          0  "
      ]
     },
     "execution_count": 16,
     "metadata": {},
     "output_type": "execute_result"
    }
   ],
   "source": [
    "# check out the first 5 rows and 10 columns excluding stopwords\n",
    "amazon_cvec_stopwords.iloc[:5, :10]"
   ]
  },
  {
   "cell_type": "markdown",
   "id": "H4Wf73pKvuRW",
   "metadata": {
    "id": "H4Wf73pKvuRW"
   },
   "source": [
    "#### **CountVectorizer Visualisation**"
   ]
  },
  {
   "cell_type": "markdown",
   "id": "qSw53PLavLCL",
   "metadata": {
    "id": "qSw53PLavLCL"
   },
   "source": [
    "I'm creating a function to plot the top 10 occuring words based on the dataframe extracted above, with & without stopwords. "
   ]
  },
  {
   "cell_type": "code",
   "execution_count": 17,
   "id": "1Xy_IGORfn3q",
   "metadata": {
    "id": "1Xy_IGORfn3q"
   },
   "outputs": [],
   "source": [
    "# create a function to plot visualisation\n",
    "\n",
    "def plot_vectorizer(df_vec, df_vec_stopwords, sub_reddit, vectorizer, xlabel):\n",
    "\n",
    "    # set figure size\n",
    "    plt.figure(figsize = (20, 6))\n",
    "\n",
    "    # plot top occuring words \n",
    "    plt.subplot(1, 2, 1)\n",
    "    plt.title('Top 10 occuring words in ' + sub_reddit + ' via ' + vectorizer, size=14)\n",
    "    plt.xlabel(xlabel, size=13)\n",
    "    plt.tick_params(labelsize=12)\n",
    "    df_vec.sum().sort_values(ascending=False).head(10).plot(kind='barh', color='khaki');\n",
    "\n",
    "    # plot top occuring words without stopwords\n",
    "    plt.subplot(1, 2, 2)\n",
    "    plt.title('\\nTop 10 occuring words in ' + sub_reddit +' (excluding stop words) via ' + vectorizer, size=14)\n",
    "    plt.xlabel(xlabel, size=13)\n",
    "    plt.tick_params(labelsize=12)\n",
    "    df_vec_stopwords.sum().sort_values(ascending=False).head(10).plot(kind='barh', color='darkseagreen');"
   ]
  },
  {
   "cell_type": "code",
   "execution_count": 18,
   "id": "TBKqvfWHf41k",
   "metadata": {
    "colab": {
     "base_uri": "https://localhost:8080/",
     "height": 758
    },
    "id": "TBKqvfWHf41k",
    "outputId": "4326412f-0646-4bdc-ad96-41a0dbd13a93",
    "scrolled": false
   },
   "outputs": [
    {
     "data": {
      "image/png": "[encoded data removed]",
      "text/plain": [
       "<Figure size 1440x432 with 2 Axes>"
      ]
     },
     "metadata": {
      "needs_background": "light"
     },
     "output_type": "display_data"
    },
    {
     "data": {
      "image/png": "[encoded data removed]",
      "text/plain": [
       "<Figure size 1440x432 with 2 Axes>"
      ]
     },
     "metadata": {
      "needs_background": "light"
     },
     "output_type": "display_data"
    }
   ],
   "source": [
    "plot_vectorizer(netflix_cvec, netflix_cvec_stopwords, 'Netflix', 'CountVectorizer', 'Frequency')\n",
    "plot_vectorizer(amazon_cvec, amazon_cvec_stopwords, 'AmazonPrimeVideo', 'CountVectorizer', 'Frequency')"
   ]
  },
  {
   "cell_type": "markdown",
   "id": "u49cGibJ74oG",
   "metadata": {
    "id": "u49cGibJ74oG"
   },
   "source": [
    "From the yellow graphs, we can see that there are stopwords like 'get' and 'one' so removing stopwords again help to focus on more important words as seen in the green-colored graphs.<br>\n",
    "Looking at the green-colored graphs (without stop words), I can see that there are same occuring words such as 'tv', 'season' and 'movie' and there are also different occuring words such as 'netflix' and 'amazon' which are important to help differentiate between the two subreddits. And it seems that unigrams are much more common than bigrams in terms of the top 10 words. <br>\n",
    "To visualise better what are the common words and different words for both subreddits, I will use venn diagram to depict later."
   ]
  },
  {
   "cell_type": "code",
   "execution_count": 19,
   "id": "6e763e88",
   "metadata": {},
   "outputs": [],
   "source": [
    "def venndiagram(netflix_df, amazon_df, title):\n",
    "    \n",
    "    # calculate the count for each word\n",
    "    netflix_words = netflix_df.sum(axis=0)\n",
    "    \n",
    "    # get the top 20 highest word and their counts\n",
    "    netflix_words = netflix_words.sort_values(ascending = False).head(20)\n",
    "    \n",
    "    # place it in a dataframe and name the columns accordingly\n",
    "    netflix_words = pd.DataFrame(netflix_words.reset_index())\n",
    "    netflix_words.columns =['word', 'count']\n",
    "\n",
    "    amazon_words = amazon_df.sum(axis=0)\n",
    "    amazon_words = amazon_words.sort_values(ascending = False).head(20)\n",
    "    amazon_words = pd.DataFrame(amazon_words.reset_index())\n",
    "    amazon_words.columns =['word', 'count']\n",
    "    \n",
    "    plt.figure(figsize=(10, 8))\n",
    "    plt.title('\\n' + title,fontsize=20)\n",
    "\n",
    "    set_a = set(netflix_words['word'])\n",
    "    set_b = set(amazon_words['word'])\n",
    "\n",
    "    venn = venn2([set_a,set_b],set_labels=['Netflix','Amazon'], set_colors=(\"lightgreen\", \"lightblue\"),alpha=0.7)\n",
    "\n",
    "    venn.get_label_by_id('100').set_text('\\n'.join(map(str,set_a-set_b)))\n",
    "    venn.get_label_by_id('110').set_text('\\n'.join(map(str,set_a&set_b)))\n",
    "    venn.get_label_by_id('010').set_text('\\n'.join(map(str,set_b-set_a)))\n",
    "\n",
    "    venn.get_label_by_id('A').set_size(18)\n",
    "    venn.get_label_by_id('B').set_size(18)\n",
    "    venn.get_label_by_id('100').set_size(13)\n",
    "    venn.get_label_by_id('110').set_size(13)\n",
    "    venn.get_label_by_id('010').set_size(13)"
   ]
  },
  {
   "cell_type": "code",
   "execution_count": 20,
   "id": "e2816a60",
   "metadata": {},
   "outputs": [
    {
     "data": {
      "image/png": "[encoded data removed]",
      "text/plain": [
       "<Figure size 720x576 with 1 Axes>"
      ]
     },
     "metadata": {},
     "output_type": "display_data"
    }
   ],
   "source": [
    "venndiagram(netflix_cvec, amazon_cvec, 'Word comparison (CountVectorizer with stopwords)')"
   ]
  },
  {
   "cell_type": "code",
   "execution_count": 21,
   "id": "8f35a2b6",
   "metadata": {
    "scrolled": false
   },
   "outputs": [
    {
     "data": {
      "image/png": "[encoded data removed]",
      "text/plain": [
       "<Figure size 720x576 with 1 Axes>"
      ]
     },
     "metadata": {},
     "output_type": "display_data"
    }
   ],
   "source": [
    "venndiagram(netflix_cvec_stopwords, amazon_cvec_stopwords, 'Word comparison (CountVectorizer excluding stopwords)')"
   ]
  },
  {
   "cell_type": "markdown",
   "id": "703cfd97",
   "metadata": {},
   "source": [
    "We can see that there's a number of words that are the same that appear in the top 20 for both subreddits but at the same time, there are distinct words that differentiate them as well."
   ]
  },
  {
   "cell_type": "markdown",
   "id": "qXlFl2QJzTXE",
   "metadata": {
    "id": "qXlFl2QJzTXE"
   },
   "source": [
    "### **TF-IDF Vectorizer (unigrams and bigrams)**"
   ]
  },
  {
   "cell_type": "markdown",
   "id": "VAVFjrMOPov_",
   "metadata": {
    "id": "VAVFjrMOPov_"
   },
   "source": [
    "Using the function created earlier, now I will pass through both dataframe with TF-IDF Vectorizer and see the results."
   ]
  },
  {
   "cell_type": "code",
   "execution_count": 22,
   "id": "ia8xPN5qkuCl",
   "metadata": {
    "colab": {
     "base_uri": "https://localhost:8080/",
     "height": 202
    },
    "id": "ia8xPN5qkuCl",
    "outputId": "92241454-c20e-4a70-f716-2537257fcdaa"
   },
   "outputs": [
    {
     "data": {
      "text/html": [
       "<div>\n",
       "<style scoped>\n",
       "    .dataframe tbody tr th:only-of-type {\n",
       "        vertical-align: middle;\n",
       "    }\n",
       "\n",
       "    .dataframe tbody tr th {\n",
       "        vertical-align: top;\n",
       "    }\n",
       "\n",
       "    .dataframe thead th {\n",
       "        text-align: right;\n",
       "    }\n",
       "</style>\n",
       "<table border=\"1\" class=\"dataframe\">\n",
       "  <thead>\n",
       "    <tr style=\"text-align: right;\">\n",
       "      <th></th>\n",
       "      <th>aaron</th>\n",
       "      <th>aaron paul</th>\n",
       "      <th>aback</th>\n",
       "      <th>aback disappointing</th>\n",
       "      <th>abandon</th>\n",
       "      <th>abandon story</th>\n",
       "      <th>abduction</th>\n",
       "      <th>abduction lisa</th>\n",
       "      <th>ability</th>\n",
       "      <th>ability bring</th>\n",
       "    </tr>\n",
       "  </thead>\n",
       "  <tbody>\n",
       "    <tr>\n",
       "      <th>0</th>\n",
       "      <td>0.0</td>\n",
       "      <td>0.0</td>\n",
       "      <td>0.0</td>\n",
       "      <td>0.0</td>\n",
       "      <td>0.0</td>\n",
       "      <td>0.0</td>\n",
       "      <td>0.0</td>\n",
       "      <td>0.0</td>\n",
       "      <td>0.0</td>\n",
       "      <td>0.0</td>\n",
       "    </tr>\n",
       "    <tr>\n",
       "      <th>1</th>\n",
       "      <td>0.0</td>\n",
       "      <td>0.0</td>\n",
       "      <td>0.0</td>\n",
       "      <td>0.0</td>\n",
       "      <td>0.0</td>\n",
       "      <td>0.0</td>\n",
       "      <td>0.0</td>\n",
       "      <td>0.0</td>\n",
       "      <td>0.0</td>\n",
       "      <td>0.0</td>\n",
       "    </tr>\n",
       "    <tr>\n",
       "      <th>2</th>\n",
       "      <td>0.0</td>\n",
       "      <td>0.0</td>\n",
       "      <td>0.0</td>\n",
       "      <td>0.0</td>\n",
       "      <td>0.0</td>\n",
       "      <td>0.0</td>\n",
       "      <td>0.0</td>\n",
       "      <td>0.0</td>\n",
       "      <td>0.0</td>\n",
       "      <td>0.0</td>\n",
       "    </tr>\n",
       "    <tr>\n",
       "      <th>3</th>\n",
       "      <td>0.0</td>\n",
       "      <td>0.0</td>\n",
       "      <td>0.0</td>\n",
       "      <td>0.0</td>\n",
       "      <td>0.0</td>\n",
       "      <td>0.0</td>\n",
       "      <td>0.0</td>\n",
       "      <td>0.0</td>\n",
       "      <td>0.0</td>\n",
       "      <td>0.0</td>\n",
       "    </tr>\n",
       "    <tr>\n",
       "      <th>4</th>\n",
       "      <td>0.0</td>\n",
       "      <td>0.0</td>\n",
       "      <td>0.0</td>\n",
       "      <td>0.0</td>\n",
       "      <td>0.0</td>\n",
       "      <td>0.0</td>\n",
       "      <td>0.0</td>\n",
       "      <td>0.0</td>\n",
       "      <td>0.0</td>\n",
       "      <td>0.0</td>\n",
       "    </tr>\n",
       "  </tbody>\n",
       "</table>\n",
       "</div>"
      ],
      "text/plain": [
       "   aaron  aaron paul  aback  aback disappointing  abandon  abandon story  \\\n",
       "0    0.0         0.0    0.0                  0.0      0.0            0.0   \n",
       "1    0.0         0.0    0.0                  0.0      0.0            0.0   \n",
       "2    0.0         0.0    0.0                  0.0      0.0            0.0   \n",
       "3    0.0         0.0    0.0                  0.0      0.0            0.0   \n",
       "4    0.0         0.0    0.0                  0.0      0.0            0.0   \n",
       "\n",
       "   abduction  abduction lisa  ability  ability bring  \n",
       "0        0.0             0.0      0.0            0.0  \n",
       "1        0.0             0.0      0.0            0.0  \n",
       "2        0.0             0.0      0.0            0.0  \n",
       "3        0.0             0.0      0.0            0.0  \n",
       "4        0.0             0.0      0.0            0.0  "
      ]
     },
     "execution_count": 22,
     "metadata": {},
     "output_type": "execute_result"
    }
   ],
   "source": [
    "# input netflix dataframe into the function again, but using TF-IDF fVectorizer this time round\n",
    "netflix_tvec, netflix_tvec_stopwords = vectorizer_df(netflix_df, TfidfVectorizer)\n",
    "\n",
    "# check out the first 5 rows and 10 columns\n",
    "netflix_tvec.iloc[:5, :10]"
   ]
  },
  {
   "cell_type": "code",
   "execution_count": 23,
   "id": "W-R8kSl5k1bC",
   "metadata": {
    "colab": {
     "base_uri": "https://localhost:8080/",
     "height": 202
    },
    "id": "W-R8kSl5k1bC",
    "outputId": "afe20a8d-34c6-4db8-f24b-82fa83ea55db"
   },
   "outputs": [
    {
     "data": {
      "text/html": [
       "<div>\n",
       "<style scoped>\n",
       "    .dataframe tbody tr th:only-of-type {\n",
       "        vertical-align: middle;\n",
       "    }\n",
       "\n",
       "    .dataframe tbody tr th {\n",
       "        vertical-align: top;\n",
       "    }\n",
       "\n",
       "    .dataframe thead th {\n",
       "        text-align: right;\n",
       "    }\n",
       "</style>\n",
       "<table border=\"1\" class=\"dataframe\">\n",
       "  <thead>\n",
       "    <tr style=\"text-align: right;\">\n",
       "      <th></th>\n",
       "      <th>aaron</th>\n",
       "      <th>aaron paul</th>\n",
       "      <th>aback</th>\n",
       "      <th>aback disappointing</th>\n",
       "      <th>abandon</th>\n",
       "      <th>abandon story</th>\n",
       "      <th>abduction</th>\n",
       "      <th>abduction lisa</th>\n",
       "      <th>ability</th>\n",
       "      <th>ability bring</th>\n",
       "    </tr>\n",
       "  </thead>\n",
       "  <tbody>\n",
       "    <tr>\n",
       "      <th>0</th>\n",
       "      <td>0.0</td>\n",
       "      <td>0.0</td>\n",
       "      <td>0.0</td>\n",
       "      <td>0.0</td>\n",
       "      <td>0.0</td>\n",
       "      <td>0.0</td>\n",
       "      <td>0.0</td>\n",
       "      <td>0.0</td>\n",
       "      <td>0.0</td>\n",
       "      <td>0.0</td>\n",
       "    </tr>\n",
       "    <tr>\n",
       "      <th>1</th>\n",
       "      <td>0.0</td>\n",
       "      <td>0.0</td>\n",
       "      <td>0.0</td>\n",
       "      <td>0.0</td>\n",
       "      <td>0.0</td>\n",
       "      <td>0.0</td>\n",
       "      <td>0.0</td>\n",
       "      <td>0.0</td>\n",
       "      <td>0.0</td>\n",
       "      <td>0.0</td>\n",
       "    </tr>\n",
       "    <tr>\n",
       "      <th>2</th>\n",
       "      <td>0.0</td>\n",
       "      <td>0.0</td>\n",
       "      <td>0.0</td>\n",
       "      <td>0.0</td>\n",
       "      <td>0.0</td>\n",
       "      <td>0.0</td>\n",
       "      <td>0.0</td>\n",
       "      <td>0.0</td>\n",
       "      <td>0.0</td>\n",
       "      <td>0.0</td>\n",
       "    </tr>\n",
       "    <tr>\n",
       "      <th>3</th>\n",
       "      <td>0.0</td>\n",
       "      <td>0.0</td>\n",
       "      <td>0.0</td>\n",
       "      <td>0.0</td>\n",
       "      <td>0.0</td>\n",
       "      <td>0.0</td>\n",
       "      <td>0.0</td>\n",
       "      <td>0.0</td>\n",
       "      <td>0.0</td>\n",
       "      <td>0.0</td>\n",
       "    </tr>\n",
       "    <tr>\n",
       "      <th>4</th>\n",
       "      <td>0.0</td>\n",
       "      <td>0.0</td>\n",
       "      <td>0.0</td>\n",
       "      <td>0.0</td>\n",
       "      <td>0.0</td>\n",
       "      <td>0.0</td>\n",
       "      <td>0.0</td>\n",
       "      <td>0.0</td>\n",
       "      <td>0.0</td>\n",
       "      <td>0.0</td>\n",
       "    </tr>\n",
       "  </tbody>\n",
       "</table>\n",
       "</div>"
      ],
      "text/plain": [
       "   aaron  aaron paul  aback  aback disappointing  abandon  abandon story  \\\n",
       "0    0.0         0.0    0.0                  0.0      0.0            0.0   \n",
       "1    0.0         0.0    0.0                  0.0      0.0            0.0   \n",
       "2    0.0         0.0    0.0                  0.0      0.0            0.0   \n",
       "3    0.0         0.0    0.0                  0.0      0.0            0.0   \n",
       "4    0.0         0.0    0.0                  0.0      0.0            0.0   \n",
       "\n",
       "   abduction  abduction lisa  ability  ability bring  \n",
       "0        0.0             0.0      0.0            0.0  \n",
       "1        0.0             0.0      0.0            0.0  \n",
       "2        0.0             0.0      0.0            0.0  \n",
       "3        0.0             0.0      0.0            0.0  \n",
       "4        0.0             0.0      0.0            0.0  "
      ]
     },
     "execution_count": 23,
     "metadata": {},
     "output_type": "execute_result"
    }
   ],
   "source": [
    "# check out the first 5 rows and 10 columns excluding stopwords\n",
    "netflix_tvec_stopwords.iloc[:5, :10]"
   ]
  },
  {
   "cell_type": "code",
   "execution_count": 24,
   "id": "p4t-f6rUk5Lp",
   "metadata": {
    "colab": {
     "base_uri": "https://localhost:8080/",
     "height": 202
    },
    "id": "p4t-f6rUk5Lp",
    "outputId": "5ae4e1b7-f4c4-4a6d-e2da-d871e1bf0b60"
   },
   "outputs": [
    {
     "data": {
      "text/html": [
       "<div>\n",
       "<style scoped>\n",
       "    .dataframe tbody tr th:only-of-type {\n",
       "        vertical-align: middle;\n",
       "    }\n",
       "\n",
       "    .dataframe tbody tr th {\n",
       "        vertical-align: top;\n",
       "    }\n",
       "\n",
       "    .dataframe thead th {\n",
       "        text-align: right;\n",
       "    }\n",
       "</style>\n",
       "<table border=\"1\" class=\"dataframe\">\n",
       "  <thead>\n",
       "    <tr style=\"text-align: right;\">\n",
       "      <th></th>\n",
       "      <th>aaron</th>\n",
       "      <th>aaron love</th>\n",
       "      <th>aaye</th>\n",
       "      <th>aaye lyric</th>\n",
       "      <th>ab</th>\n",
       "      <th>ab disgrace</th>\n",
       "      <th>abbey</th>\n",
       "      <th>abbey prime</th>\n",
       "      <th>abbey speed</th>\n",
       "      <th>abduction</th>\n",
       "    </tr>\n",
       "  </thead>\n",
       "  <tbody>\n",
       "    <tr>\n",
       "      <th>0</th>\n",
       "      <td>0.0</td>\n",
       "      <td>0.0</td>\n",
       "      <td>0.0</td>\n",
       "      <td>0.0</td>\n",
       "      <td>0.0</td>\n",
       "      <td>0.0</td>\n",
       "      <td>0.0</td>\n",
       "      <td>0.0</td>\n",
       "      <td>0.0</td>\n",
       "      <td>0.0</td>\n",
       "    </tr>\n",
       "    <tr>\n",
       "      <th>1</th>\n",
       "      <td>0.0</td>\n",
       "      <td>0.0</td>\n",
       "      <td>0.0</td>\n",
       "      <td>0.0</td>\n",
       "      <td>0.0</td>\n",
       "      <td>0.0</td>\n",
       "      <td>0.0</td>\n",
       "      <td>0.0</td>\n",
       "      <td>0.0</td>\n",
       "      <td>0.0</td>\n",
       "    </tr>\n",
       "    <tr>\n",
       "      <th>2</th>\n",
       "      <td>0.0</td>\n",
       "      <td>0.0</td>\n",
       "      <td>0.0</td>\n",
       "      <td>0.0</td>\n",
       "      <td>0.0</td>\n",
       "      <td>0.0</td>\n",
       "      <td>0.0</td>\n",
       "      <td>0.0</td>\n",
       "      <td>0.0</td>\n",
       "      <td>0.0</td>\n",
       "    </tr>\n",
       "    <tr>\n",
       "      <th>3</th>\n",
       "      <td>0.0</td>\n",
       "      <td>0.0</td>\n",
       "      <td>0.0</td>\n",
       "      <td>0.0</td>\n",
       "      <td>0.0</td>\n",
       "      <td>0.0</td>\n",
       "      <td>0.0</td>\n",
       "      <td>0.0</td>\n",
       "      <td>0.0</td>\n",
       "      <td>0.0</td>\n",
       "    </tr>\n",
       "    <tr>\n",
       "      <th>4</th>\n",
       "      <td>0.0</td>\n",
       "      <td>0.0</td>\n",
       "      <td>0.0</td>\n",
       "      <td>0.0</td>\n",
       "      <td>0.0</td>\n",
       "      <td>0.0</td>\n",
       "      <td>0.0</td>\n",
       "      <td>0.0</td>\n",
       "      <td>0.0</td>\n",
       "      <td>0.0</td>\n",
       "    </tr>\n",
       "  </tbody>\n",
       "</table>\n",
       "</div>"
      ],
      "text/plain": [
       "   aaron  aaron love  aaye  aaye lyric   ab  ab disgrace  abbey  abbey prime  \\\n",
       "0    0.0         0.0   0.0         0.0  0.0          0.0    0.0          0.0   \n",
       "1    0.0         0.0   0.0         0.0  0.0          0.0    0.0          0.0   \n",
       "2    0.0         0.0   0.0         0.0  0.0          0.0    0.0          0.0   \n",
       "3    0.0         0.0   0.0         0.0  0.0          0.0    0.0          0.0   \n",
       "4    0.0         0.0   0.0         0.0  0.0          0.0    0.0          0.0   \n",
       "\n",
       "   abbey speed  abduction  \n",
       "0          0.0        0.0  \n",
       "1          0.0        0.0  \n",
       "2          0.0        0.0  \n",
       "3          0.0        0.0  \n",
       "4          0.0        0.0  "
      ]
     },
     "execution_count": 24,
     "metadata": {},
     "output_type": "execute_result"
    }
   ],
   "source": [
    "# input amazon dataframe into the function \n",
    "amazon_tvec, amazon_tvec_stopwords = vectorizer_df(amazon_df, TfidfVectorizer)\n",
    "\n",
    "# check out the first 5 rows and 10 columns\n",
    "amazon_tvec.iloc[:5, :10]"
   ]
  },
  {
   "cell_type": "code",
   "execution_count": 25,
   "id": "WoJyOdmFk5_j",
   "metadata": {
    "colab": {
     "base_uri": "https://localhost:8080/",
     "height": 202
    },
    "id": "WoJyOdmFk5_j",
    "outputId": "83c94eeb-0df3-421d-b49c-cdfd8e1e30d9"
   },
   "outputs": [
    {
     "data": {
      "text/html": [
       "<div>\n",
       "<style scoped>\n",
       "    .dataframe tbody tr th:only-of-type {\n",
       "        vertical-align: middle;\n",
       "    }\n",
       "\n",
       "    .dataframe tbody tr th {\n",
       "        vertical-align: top;\n",
       "    }\n",
       "\n",
       "    .dataframe thead th {\n",
       "        text-align: right;\n",
       "    }\n",
       "</style>\n",
       "<table border=\"1\" class=\"dataframe\">\n",
       "  <thead>\n",
       "    <tr style=\"text-align: right;\">\n",
       "      <th></th>\n",
       "      <th>aaron</th>\n",
       "      <th>aaron love</th>\n",
       "      <th>aaye</th>\n",
       "      <th>aaye lyric</th>\n",
       "      <th>ab</th>\n",
       "      <th>ab disgrace</th>\n",
       "      <th>abbey</th>\n",
       "      <th>abbey prime</th>\n",
       "      <th>abbey speed</th>\n",
       "      <th>abduction</th>\n",
       "    </tr>\n",
       "  </thead>\n",
       "  <tbody>\n",
       "    <tr>\n",
       "      <th>0</th>\n",
       "      <td>0.0</td>\n",
       "      <td>0.0</td>\n",
       "      <td>0.0</td>\n",
       "      <td>0.0</td>\n",
       "      <td>0.0</td>\n",
       "      <td>0.0</td>\n",
       "      <td>0.0</td>\n",
       "      <td>0.0</td>\n",
       "      <td>0.0</td>\n",
       "      <td>0.0</td>\n",
       "    </tr>\n",
       "    <tr>\n",
       "      <th>1</th>\n",
       "      <td>0.0</td>\n",
       "      <td>0.0</td>\n",
       "      <td>0.0</td>\n",
       "      <td>0.0</td>\n",
       "      <td>0.0</td>\n",
       "      <td>0.0</td>\n",
       "      <td>0.0</td>\n",
       "      <td>0.0</td>\n",
       "      <td>0.0</td>\n",
       "      <td>0.0</td>\n",
       "    </tr>\n",
       "    <tr>\n",
       "      <th>2</th>\n",
       "      <td>0.0</td>\n",
       "      <td>0.0</td>\n",
       "      <td>0.0</td>\n",
       "      <td>0.0</td>\n",
       "      <td>0.0</td>\n",
       "      <td>0.0</td>\n",
       "      <td>0.0</td>\n",
       "      <td>0.0</td>\n",
       "      <td>0.0</td>\n",
       "      <td>0.0</td>\n",
       "    </tr>\n",
       "    <tr>\n",
       "      <th>3</th>\n",
       "      <td>0.0</td>\n",
       "      <td>0.0</td>\n",
       "      <td>0.0</td>\n",
       "      <td>0.0</td>\n",
       "      <td>0.0</td>\n",
       "      <td>0.0</td>\n",
       "      <td>0.0</td>\n",
       "      <td>0.0</td>\n",
       "      <td>0.0</td>\n",
       "      <td>0.0</td>\n",
       "    </tr>\n",
       "    <tr>\n",
       "      <th>4</th>\n",
       "      <td>0.0</td>\n",
       "      <td>0.0</td>\n",
       "      <td>0.0</td>\n",
       "      <td>0.0</td>\n",
       "      <td>0.0</td>\n",
       "      <td>0.0</td>\n",
       "      <td>0.0</td>\n",
       "      <td>0.0</td>\n",
       "      <td>0.0</td>\n",
       "      <td>0.0</td>\n",
       "    </tr>\n",
       "  </tbody>\n",
       "</table>\n",
       "</div>"
      ],
      "text/plain": [
       "   aaron  aaron love  aaye  aaye lyric   ab  ab disgrace  abbey  abbey prime  \\\n",
       "0    0.0         0.0   0.0         0.0  0.0          0.0    0.0          0.0   \n",
       "1    0.0         0.0   0.0         0.0  0.0          0.0    0.0          0.0   \n",
       "2    0.0         0.0   0.0         0.0  0.0          0.0    0.0          0.0   \n",
       "3    0.0         0.0   0.0         0.0  0.0          0.0    0.0          0.0   \n",
       "4    0.0         0.0   0.0         0.0  0.0          0.0    0.0          0.0   \n",
       "\n",
       "   abbey speed  abduction  \n",
       "0          0.0        0.0  \n",
       "1          0.0        0.0  \n",
       "2          0.0        0.0  \n",
       "3          0.0        0.0  \n",
       "4          0.0        0.0  "
      ]
     },
     "execution_count": 25,
     "metadata": {},
     "output_type": "execute_result"
    }
   ],
   "source": [
    "# check out the first 5 rows and 10 columns excluding stopwords\n",
    "amazon_tvec_stopwords.iloc[:5, :10]"
   ]
  },
  {
   "cell_type": "markdown",
   "id": "qpzJAAhKzz89",
   "metadata": {
    "id": "qpzJAAhKzz89"
   },
   "source": [
    "#### **TfidVectorizer Visualisation**"
   ]
  },
  {
   "cell_type": "markdown",
   "id": "pgv12pY4PIfV",
   "metadata": {
    "id": "pgv12pY4PIfV"
   },
   "source": [
    "Now, I will visualise the top 10 occuring words by TF-IDF Vectorizer using the function created earlier as well."
   ]
  },
  {
   "cell_type": "code",
   "execution_count": 26,
   "id": "5i8hou3wRo7J",
   "metadata": {
    "colab": {
     "base_uri": "https://localhost:8080/",
     "height": 758
    },
    "id": "5i8hou3wRo7J",
    "outputId": "c8845271-c4c4-4c47-f15b-652f2017f92a"
   },
   "outputs": [
    {
     "data": {
      "image/png": "[encoded data removed]",
      "text/plain": [
       "<Figure size 1440x432 with 2 Axes>"
      ]
     },
     "metadata": {
      "needs_background": "light"
     },
     "output_type": "display_data"
    },
    {
     "data": {
      "image/png": "[encoded data removed]",
      "text/plain": [
       "<Figure size 1440x432 with 2 Axes>"
      ]
     },
     "metadata": {
      "needs_background": "light"
     },
     "output_type": "display_data"
    }
   ],
   "source": [
    "# using the function created earlier, plot visualisation using TF-IDF Vectorizer\n",
    "plot_vectorizer(netflix_tvec, netflix_tvec_stopwords, 'Netflix', 'TF-IDF fVectorizer', 'Score')\n",
    "plot_vectorizer(amazon_tvec, amazon_tvec_stopwords, 'AmazonPrimeVideo', 'TF-IDF Vectorizer', 'Score')"
   ]
  },
  {
   "cell_type": "markdown",
   "id": "1cd13Wld8Rcu",
   "metadata": {
    "id": "1cd13Wld8Rcu"
   },
   "source": [
    "Though I have removed stopwords earlier when cleaning the data, we can see that there are still stopwords exist on the yellow graph such as 'one' and 'get'.\n",
    "Same as CountVectorizer, looking at the green-colored graphs (without stop words), there are same occuring words such as 'movie' and 'season'. But there are also different occuring words such as 'netflix' and 'amazon prime' to help differentiate the two subreddits."
   ]
  },
  {
   "cell_type": "code",
   "execution_count": 27,
   "id": "834b1e1c",
   "metadata": {
    "scrolled": false
   },
   "outputs": [
    {
     "data": {
      "image/png": "[encoded data removed]",
      "text/plain": [
       "<Figure size 720x576 with 1 Axes>"
      ]
     },
     "metadata": {},
     "output_type": "display_data"
    }
   ],
   "source": [
    "venndiagram(netflix_tvec, amazon_tvec, 'Word comparison (TF-IDF Vectorizer with stopwords)')"
   ]
  },
  {
   "cell_type": "code",
   "execution_count": 28,
   "id": "9519ee1c",
   "metadata": {},
   "outputs": [
    {
     "data": {
      "image/png": "[encoded data removed]",
      "text/plain": [
       "<Figure size 720x576 with 1 Axes>"
      ]
     },
     "metadata": {},
     "output_type": "display_data"
    }
   ],
   "source": [
    "venndiagram(netflix_tvec_stopwords, amazon_tvec_stopwords, 'Word comparison (TF-IDF Vectorizer excluding stopwords)')"
   ]
  },
  {
   "cell_type": "markdown",
   "id": "f004d3c7",
   "metadata": {},
   "source": [
    "We can see that there's a number of words that are the same that appear in the top 20 for both subreddits but at the same time, there are distinct words that differentiate them as well.\n",
    "\n",
    "Since there are distinct differences between the two subreddits, we can continue to go ahead with the modeling and see how well it works."
   ]
  },
  {
   "cell_type": "markdown",
   "id": "Jx1IHvx8dPSA",
   "metadata": {
    "id": "Jx1IHvx8dPSA"
   },
   "source": [
    "## **Modeling**"
   ]
  },
  {
   "cell_type": "markdown",
   "id": "E2-wmASkbHpT",
   "metadata": {
    "id": "E2-wmASkbHpT"
   },
   "source": [
    "### **Merge both dataframe**"
   ]
  },
  {
   "cell_type": "code",
   "execution_count": 29,
   "id": "UZ1f-ztta865",
   "metadata": {
    "colab": {
     "base_uri": "https://localhost:8080/",
     "height": 202
    },
    "id": "UZ1f-ztta865",
    "outputId": "a584f232-4e7e-48ff-f710-20ec57595a6a"
   },
   "outputs": [
    {
     "data": {
      "text/html": [
       "<div>\n",
       "<style scoped>\n",
       "    .dataframe tbody tr th:only-of-type {\n",
       "        vertical-align: middle;\n",
       "    }\n",
       "\n",
       "    .dataframe tbody tr th {\n",
       "        vertical-align: top;\n",
       "    }\n",
       "\n",
       "    .dataframe thead th {\n",
       "        text-align: right;\n",
       "    }\n",
       "</style>\n",
       "<table border=\"1\" class=\"dataframe\">\n",
       "  <thead>\n",
       "    <tr style=\"text-align: right;\">\n",
       "      <th></th>\n",
       "      <th>subreddit</th>\n",
       "      <th>text</th>\n",
       "    </tr>\n",
       "  </thead>\n",
       "  <tbody>\n",
       "    <tr>\n",
       "      <th>0</th>\n",
       "      <td>netflix</td>\n",
       "      <td>movie series recommendation</td>\n",
       "    </tr>\n",
       "    <tr>\n",
       "      <th>1</th>\n",
       "      <td>netflix</td>\n",
       "      <td>want download netflix download netflix want d...</td>\n",
       "    </tr>\n",
       "    <tr>\n",
       "      <th>2</th>\n",
       "      <td>netflix</td>\n",
       "      <td>download</td>\n",
       "    </tr>\n",
       "    <tr>\n",
       "      <th>3</th>\n",
       "      <td>netflix</td>\n",
       "      <td>season kim convenience netflix</td>\n",
       "    </tr>\n",
       "    <tr>\n",
       "      <th>4</th>\n",
       "      <td>netflix</td>\n",
       "      <td>use people netflix account long time friend n...</td>\n",
       "    </tr>\n",
       "  </tbody>\n",
       "</table>\n",
       "</div>"
      ],
      "text/plain": [
       "  subreddit                                               text\n",
       "0   netflix                       movie series recommendation \n",
       "1   netflix   want download netflix download netflix want d...\n",
       "2   netflix                                          download \n",
       "3   netflix                    season kim convenience netflix \n",
       "4   netflix   use people netflix account long time friend n..."
      ]
     },
     "execution_count": 29,
     "metadata": {},
     "output_type": "execute_result"
    }
   ],
   "source": [
    "# combine both subreddits vertically into 1 dataframe\n",
    "df = pd.concat([netflix_df, amazon_df])\n",
    "df.head()"
   ]
  },
  {
   "cell_type": "code",
   "execution_count": 30,
   "id": "xjUjB9aVa9lb",
   "metadata": {
    "colab": {
     "base_uri": "https://localhost:8080/",
     "height": 202
    },
    "id": "xjUjB9aVa9lb",
    "outputId": "2f191974-a559-4950-9195-3cd8f1373edc"
   },
   "outputs": [
    {
     "data": {
      "text/html": [
       "<div>\n",
       "<style scoped>\n",
       "    .dataframe tbody tr th:only-of-type {\n",
       "        vertical-align: middle;\n",
       "    }\n",
       "\n",
       "    .dataframe tbody tr th {\n",
       "        vertical-align: top;\n",
       "    }\n",
       "\n",
       "    .dataframe thead th {\n",
       "        text-align: right;\n",
       "    }\n",
       "</style>\n",
       "<table border=\"1\" class=\"dataframe\">\n",
       "  <thead>\n",
       "    <tr style=\"text-align: right;\">\n",
       "      <th></th>\n",
       "      <th>subreddit</th>\n",
       "      <th>text</th>\n",
       "    </tr>\n",
       "  </thead>\n",
       "  <tbody>\n",
       "    <tr>\n",
       "      <th>0</th>\n",
       "      <td>1</td>\n",
       "      <td>movie series recommendation</td>\n",
       "    </tr>\n",
       "    <tr>\n",
       "      <th>1</th>\n",
       "      <td>1</td>\n",
       "      <td>want download netflix download netflix want d...</td>\n",
       "    </tr>\n",
       "    <tr>\n",
       "      <th>2</th>\n",
       "      <td>1</td>\n",
       "      <td>download</td>\n",
       "    </tr>\n",
       "    <tr>\n",
       "      <th>3</th>\n",
       "      <td>1</td>\n",
       "      <td>season kim convenience netflix</td>\n",
       "    </tr>\n",
       "    <tr>\n",
       "      <th>4</th>\n",
       "      <td>1</td>\n",
       "      <td>use people netflix account long time friend n...</td>\n",
       "    </tr>\n",
       "  </tbody>\n",
       "</table>\n",
       "</div>"
      ],
      "text/plain": [
       "   subreddit                                               text\n",
       "0          1                       movie series recommendation \n",
       "1          1   want download netflix download netflix want d...\n",
       "2          1                                          download \n",
       "3          1                    season kim convenience netflix \n",
       "4          1   use people netflix account long time friend n..."
      ]
     },
     "execution_count": 30,
     "metadata": {},
     "output_type": "execute_result"
    }
   ],
   "source": [
    "# label AmazonPrimeVideo and netflix to 0 and 1 respectively\n",
    "df['subreddit'] = df['subreddit'].map({'AmazonPrimeVideo':0, 'netflix':1})\n",
    "df.head()"
   ]
  },
  {
   "cell_type": "code",
   "execution_count": 31,
   "id": "gR2EYnH-a9ek",
   "metadata": {
    "colab": {
     "base_uri": "https://localhost:8080/"
    },
    "id": "gR2EYnH-a9ek",
    "outputId": "35ea0039-0b30-4a71-aedb-56cc6168063c"
   },
   "outputs": [
    {
     "data": {
      "text/plain": [
       "(1949, 2)"
      ]
     },
     "execution_count": 31,
     "metadata": {},
     "output_type": "execute_result"
    }
   ],
   "source": [
    "# check out how many rows are there\n",
    "df.shape"
   ]
  },
  {
   "cell_type": "markdown",
   "id": "7M0GREkz7I-k",
   "metadata": {
    "id": "7M0GREkz7I-k"
   },
   "source": [
    "### **Create X and y for modeling**"
   ]
  },
  {
   "cell_type": "code",
   "execution_count": 32,
   "id": "R1VvBmKybem7",
   "metadata": {
    "id": "R1VvBmKybem7"
   },
   "outputs": [],
   "source": [
    "# create X and y variables\n",
    "X = df['text']\n",
    "y = df['subreddit']"
   ]
  },
  {
   "cell_type": "markdown",
   "id": "4JkMYlCPaqtm",
   "metadata": {
    "id": "4JkMYlCPaqtm"
   },
   "source": [
    "### **Baseline score**"
   ]
  },
  {
   "cell_type": "code",
   "execution_count": 33,
   "id": "YbvIceBPbXkw",
   "metadata": {
    "colab": {
     "base_uri": "https://localhost:8080/"
    },
    "id": "YbvIceBPbXkw",
    "outputId": "f2161ace-cb87-45c9-b7f8-dfb21919f6ce"
   },
   "outputs": [
    {
     "data": {
      "text/plain": [
       "0    0.505387\n",
       "1    0.494613\n",
       "Name: subreddit, dtype: float64"
      ]
     },
     "execution_count": 33,
     "metadata": {},
     "output_type": "execute_result"
    }
   ],
   "source": [
    "y.value_counts(normalize = True)"
   ]
  },
  {
   "cell_type": "markdown",
   "id": "YiTnF4op0K8H",
   "metadata": {
    "id": "YiTnF4op0K8H"
   },
   "source": [
    "Based on the value counts, the percentage is pretty much the same, therefore the baseline score is 50%. Setting the baseline score at 50% means that there's a 50% accuracy the predicted subreddits is either netflix or amazon prime video.<br>\n",
    "If my model can achieve >50% accuracy, it means I should consider the model to predict which subreddit it belongs to since it will generate better results than baseline score."
   ]
  },
  {
   "cell_type": "markdown",
   "id": "Ya0K5_81birl",
   "metadata": {
    "id": "Ya0K5_81birl"
   },
   "source": [
    "### **Train-test-split**"
   ]
  },
  {
   "cell_type": "code",
   "execution_count": 34,
   "id": "IpTqiRH4baoB",
   "metadata": {
    "id": "IpTqiRH4baoB"
   },
   "outputs": [],
   "source": [
    "# Split the data into training and testing sets\n",
    "X_train, X_test, y_train, y_test = train_test_split(X,\n",
    "                                                    y,\n",
    "                                                    test_size=0.33,\n",
    "                                                    stratify=y,\n",
    "                                                    random_state=42)"
   ]
  },
  {
   "cell_type": "markdown",
   "id": "FfCeAJ1F20iP",
   "metadata": {
    "id": "FfCeAJ1F20iP"
   },
   "source": [
    "### **RandomForest**"
   ]
  },
  {
   "cell_type": "markdown",
   "id": "OW8BL0S0b3OO",
   "metadata": {
    "id": "OW8BL0S0b3OO"
   },
   "source": [
    "Random forest is a supervised learning algorithm. It is an ensemble of decision trees that aims to increase the overall result.<br> The models has two key concepts:\n",
    "- Random sampling of training data points when building trees\n",
    "- Random subsets of features considered when splitting nodes\n",
    "\n",
    "<br>The final predictions of the random forest are made by averaging the predictions of each individual tree. \n",
    "<br>As random forest uses random subset of features for every tree, there's low correlation between the trees so it reduces the variance as well. It is a model that performs pretty well due to how it works.<br>\n",
    "I will use GridSearchCV to search for the best parameters and see "
   ]
  },
  {
   "cell_type": "code",
   "execution_count": 35,
   "id": "W8kbBdu1dQcw",
   "metadata": {
    "colab": {
     "base_uri": "https://localhost:8080/"
    },
    "id": "W8kbBdu1dQcw",
    "outputId": "dbde0e50-5a62-4a6d-c04d-3b37a2be5c72"
   },
   "outputs": [
    {
     "data": {
      "text/plain": [
       "GridSearchCV(cv=5,\n",
       "             estimator=Pipeline(steps=[('vec', None),\n",
       "                                       ('model', RandomForestClassifier())]),\n",
       "             param_grid={'model__max_depth': [6, 10, 16],\n",
       "                         'model__min_samples_leaf': [6, 10],\n",
       "                         'model__min_samples_split': [16, 32],\n",
       "                         'model__n_estimators': [50, 100],\n",
       "                         'model__random_state': [42],\n",
       "                         'vec': [CountVectorizer(max_df=0.8, max_features=1500,\n",
       "                                                 min_df=10, ngram_range=(1, 2),\n",
       "                                                 stop_words='english'),\n",
       "                                 TfidfVectorizer()],\n",
       "                         'vec__max_df': [0.8, 0.9],\n",
       "                         'vec__max_features': [1500, 2000],\n",
       "                         'vec__min_df': [10, 20],\n",
       "                         'vec__ngram_range': [(1, 1), (1, 2)],\n",
       "                         'vec__stop_words': ['english']},\n",
       "             scoring='accuracy')"
      ]
     },
     "execution_count": 35,
     "metadata": {},
     "output_type": "execute_result"
    }
   ],
   "source": [
    "# check the best params for RandomForestClassifier\n",
    "pipe_rf = Pipeline([('vec', None), ('model', RandomForestClassifier())])\n",
    "param_grid_rf = {'vec': [CountVectorizer(), TfidfVectorizer()], \n",
    "              'model__n_estimators': [50, 100],\n",
    "              'model__max_depth': [6, 10, 16],\n",
    "              'model__min_samples_leaf': [6, 10],\n",
    "              'model__min_samples_split': [16, 32],\n",
    "              'model__random_state': [42],\n",
    "              'vec__stop_words': ['english'],\n",
    "              'vec__max_features': [1500, 2000],\n",
    "              'vec__min_df': [10, 20], \n",
    "              'vec__max_df': [0.8, 0.9],\n",
    "              'vec__ngram_range': [(1, 1), (1, 2)]}\n",
    "gs_rf = GridSearchCV(pipe_rf, param_grid_rf, cv=5, scoring='accuracy')\n",
    "gs_rf.fit(X_train, y_train)"
   ]
  },
  {
   "cell_type": "code",
   "execution_count": 36,
   "id": "9QIqOLUSd5Aw",
   "metadata": {
    "colab": {
     "base_uri": "https://localhost:8080/"
    },
    "id": "9QIqOLUSd5Aw",
    "outputId": "cbba0ea8-181a-4d03-d1c8-8ad1d1f0be10"
   },
   "outputs": [
    {
     "name": "stdout",
     "output_type": "stream",
     "text": [
      "Best score: 0.8168582375478927\n",
      "Best params:  {'model__max_depth': 16, 'model__min_samples_leaf': 6, 'model__min_samples_split': 16, 'model__n_estimators': 50, 'model__random_state': 42, 'vec': CountVectorizer(max_df=0.8, max_features=1500, min_df=10, ngram_range=(1, 2),\n",
      "                stop_words='english'), 'vec__max_df': 0.8, 'vec__max_features': 1500, 'vec__min_df': 10, 'vec__ngram_range': (1, 2), 'vec__stop_words': 'english'}\n"
     ]
    }
   ],
   "source": [
    "# check the best score and best params\n",
    "print(f'Best score: {gs_rf.best_score_}')\n",
    "print(f'Best params:  {gs_rf.best_params_}')"
   ]
  },
  {
   "cell_type": "markdown",
   "id": "bK3zR-cznlnd",
   "metadata": {
    "id": "bK3zR-cznlnd"
   },
   "source": [
    "### **Logistic Regression**"
   ]
  },
  {
   "cell_type": "markdown",
   "id": "PpJjzIoGd6zv",
   "metadata": {
    "id": "PpJjzIoGd6zv"
   },
   "source": [
    "Logistic regression is the most common binary classification algorithm that predicts continuous probabilities between 0 and 1. We can use these probabilities to choose which class we predict. <br>\n",
    "Advantages: The coefficients in a logistic regression model are interpretable. (They represent the change in log-odds caused by the input variables.) <br>Logistic regression is a very fast model to fit and generate predictions from.\n"
   ]
  },
  {
   "cell_type": "code",
   "execution_count": 37,
   "id": "5laAWfeSjXJI",
   "metadata": {
    "colab": {
     "base_uri": "https://localhost:8080/"
    },
    "id": "5laAWfeSjXJI",
    "outputId": "7c02f155-4e7a-4895-c349-d5ae57a77fcf",
    "scrolled": true
   },
   "outputs": [
    {
     "data": {
      "text/plain": [
       "GridSearchCV(cv=5,\n",
       "             estimator=Pipeline(steps=[('vec', None),\n",
       "                                       ('model', LogisticRegression())]),\n",
       "             param_grid={'model__C': [1.0, 5.0],\n",
       "                         'model__max_iter': [3000, 4000],\n",
       "                         'model__penalty': ['l1', 'l2'],\n",
       "                         'model__random_state': [42], 'model__solver': ['saga'],\n",
       "                         'vec': [CountVectorizer(max_df=0.9, max_features=2000,\n",
       "                                                 min_df=2,\n",
       "                                                 stop_words='english'),\n",
       "                                 TfidfVectorizer()],\n",
       "                         'vec__max_df': [0.9, 0.95],\n",
       "                         'vec__max_features': [2000, 2500],\n",
       "                         'vec__min_df': [2, 5],\n",
       "                         'vec__ngram_range': [(1, 1), (1, 2)],\n",
       "                         'vec__stop_words': ['english']},\n",
       "             scoring='accuracy')"
      ]
     },
     "execution_count": 37,
     "metadata": {},
     "output_type": "execute_result"
    }
   ],
   "source": [
    "pipe_lr = Pipeline([('vec', None), ('model', LogisticRegression())])\n",
    "param_grid_lr = {'vec': [CountVectorizer(), TfidfVectorizer()], \n",
    "                'model__max_iter': [3000, 4000],\n",
    "                'model__penalty': ['l1', 'l2'],\n",
    "                'model__solver': ['saga'],\n",
    "                'model__C': [1.0, 5.0],\n",
    "                'model__random_state': [42],\n",
    "                'vec__stop_words': ['english'], \n",
    "                'vec__max_features': [2000, 2500], \n",
    "                'vec__min_df': [2, 5], \n",
    "                'vec__max_df': [0.90, 0.95],\n",
    "                'vec__ngram_range': [(1, 1), (1, 2)]}\n",
    "gs_lr = GridSearchCV(pipe_lr, param_grid_lr, cv=5, scoring='accuracy')\n",
    "gs_lr.fit(X_train, y_train)"
   ]
  },
  {
   "cell_type": "code",
   "execution_count": 38,
   "id": "EnY2UhCqmYAj",
   "metadata": {
    "colab": {
     "base_uri": "https://localhost:8080/"
    },
    "id": "EnY2UhCqmYAj",
    "outputId": "43775a3b-79c1-471c-ceb4-1c702f1760d9"
   },
   "outputs": [
    {
     "name": "stdout",
     "output_type": "stream",
     "text": [
      "Best score: 0.8544061302681992\n",
      "Best params:  {'model__C': 1.0, 'model__max_iter': 3000, 'model__penalty': 'l2', 'model__random_state': 42, 'model__solver': 'saga', 'vec': CountVectorizer(max_df=0.9, max_features=2000, min_df=2, stop_words='english'), 'vec__max_df': 0.9, 'vec__max_features': 2000, 'vec__min_df': 2, 'vec__ngram_range': (1, 1), 'vec__stop_words': 'english'}\n"
     ]
    }
   ],
   "source": [
    "# check the best score and best params\n",
    "print(f'Best score: {gs_lr.best_score_}')\n",
    "print(f'Best params:  {gs_lr.best_params_}')"
   ]
  },
  {
   "cell_type": "markdown",
   "id": "38QL0kG8UNN9",
   "metadata": {
    "id": "38QL0kG8UNN9"
   },
   "source": [
    "### **Multinomial Naive Bayes**"
   ]
  },
  {
   "cell_type": "markdown",
   "id": "h0_YS7Kifr3Z",
   "metadata": {
    "id": "h0_YS7Kifr3Z"
   },
   "source": [
    "Naive Bayes is a classification model that relies on Bayes Theorem which has one underlying assumption - the features are independent of each other. It is mostly used in Natural Language Processing (NLP). <br>Advantages: it is simple and can be used for predicting real-time applications. It is also highly scalable and can easily handle large datasets. <br>Disadvantages of making the assumption of feature independence is it's unrealistic, especially in the case of text data. While our classifications are accurate, our predicted probabilities\n",
    "are usually quite bad.\n"
   ]
  },
  {
   "cell_type": "code",
   "execution_count": 39,
   "id": "S2E0VBGaS6My",
   "metadata": {
    "colab": {
     "base_uri": "https://localhost:8080/"
    },
    "id": "S2E0VBGaS6My",
    "outputId": "61d96cb0-32f8-4726-aba6-2f30e4830f09"
   },
   "outputs": [
    {
     "data": {
      "text/plain": [
       "GridSearchCV(cv=5,\n",
       "             estimator=Pipeline(steps=[('vec', None),\n",
       "                                       ('model', MultinomialNB())]),\n",
       "             param_grid={'model__alpha': [0.75, 0.8, 0.85],\n",
       "                         'model__fit_prior': [True],\n",
       "                         'vec': [CountVectorizer(),\n",
       "                                 TfidfVectorizer(max_df=0.9, max_features=1500,\n",
       "                                                 min_df=3,\n",
       "                                                 stop_words='english')],\n",
       "                         'vec__max_df': [0.9, 0.99],\n",
       "                         'vec__max_features': [1500, 2000],\n",
       "                         'vec__min_df': [3, 10],\n",
       "                         'vec__ngram_range': [(1, 1), (1, 3)],\n",
       "                         'vec__stop_words': ['english']},\n",
       "             scoring='accuracy')"
      ]
     },
     "execution_count": 39,
     "metadata": {},
     "output_type": "execute_result"
    }
   ],
   "source": [
    "pipe_nb = Pipeline([('vec', None), ('model', MultinomialNB())])\n",
    "param_grid_nb = {'vec': [CountVectorizer(), TfidfVectorizer()], \n",
    "                 'model__alpha':[0.75,0.8,0.85],\n",
    "                 'model__fit_prior':[True],\n",
    "              'vec__stop_words': ['english'],\n",
    "              'vec__max_features': [1500, 2000],\n",
    "              'vec__min_df': [3, 10],\n",
    "              'vec__max_df': [0.90, 0.99],\n",
    "              'vec__ngram_range': [(1, 1), (1, 3)]}\n",
    "gs_nb = GridSearchCV(pipe_nb, param_grid_nb, cv=5, scoring='accuracy')\n",
    "gs_nb.fit(X_train, y_train)"
   ]
  },
  {
   "cell_type": "code",
   "execution_count": 40,
   "id": "DD5E7L1nTcqv",
   "metadata": {
    "colab": {
     "base_uri": "https://localhost:8080/"
    },
    "id": "DD5E7L1nTcqv",
    "outputId": "f6f05ff5-b430-4ae8-ae94-24755ec1b593"
   },
   "outputs": [
    {
     "name": "stdout",
     "output_type": "stream",
     "text": [
      "Best score: 0.8222222222222222\n",
      "Best params:  {'model__alpha': 0.85, 'model__fit_prior': True, 'vec': TfidfVectorizer(max_df=0.9, max_features=1500, min_df=3, stop_words='english'), 'vec__max_df': 0.9, 'vec__max_features': 1500, 'vec__min_df': 3, 'vec__ngram_range': (1, 1), 'vec__stop_words': 'english'}\n"
     ]
    }
   ],
   "source": [
    "# check the best score and best params\n",
    "print(f'Best score: {gs_nb.best_score_}')\n",
    "print(f'Best params:  {gs_nb.best_params_}')"
   ]
  },
  {
   "cell_type": "markdown",
   "id": "aG0kgRJA997Z",
   "metadata": {
    "id": "aG0kgRJA997Z"
   },
   "source": [
    "## **Evaluation**"
   ]
  },
  {
   "cell_type": "code",
   "execution_count": 41,
   "id": "N1xdzqsC7oiO",
   "metadata": {
    "colab": {
     "base_uri": "https://localhost:8080/"
    },
    "id": "N1xdzqsC7oiO",
    "outputId": "beebdce1-3d31-4c00-f7b7-cc024a343c09"
   },
   "outputs": [
    {
     "name": "stdout",
     "output_type": "stream",
     "text": [
      "=== Random forest ===\n",
      "Train score: 0.8498\n",
      "Test score: 0.8152\n",
      "\n",
      "=== Logistic Regression ====\n",
      "Train score: 0.9617\n",
      "Test score: 0.8587\n",
      "\n",
      "=== Multinomial Naive Bayes ===\n",
      "Train score: 0.9234\n",
      "Test score: 0.8137\n",
      "\n"
     ]
    }
   ],
   "source": [
    "# evaluate the train and test score for all 3 models\n",
    "print(' Random forest '.center(21, \"=\"))\n",
    "print(f'Train score: {gs_rf.score(X_train, y_train):.4f}')\n",
    "print(f'Test score: {gs_rf.score(X_test, y_test):.4f}')\n",
    "print()\n",
    "print(' Logistic Regression '.center(28, \"=\"))\n",
    "print(f'Train score: {gs_lr.score(X_train, y_train):.4f}')\n",
    "print(f'Test score: {gs_lr.score(X_test, y_test):.4f}')\n",
    "print()\n",
    "print(' Multinomial Naive Bayes '.center(31, \"=\"))\n",
    "print(f'Train score: {gs_nb.score(X_train, y_train):.4f}')\n",
    "print(f'Test score: {gs_nb.score(X_test, y_test):.4f}')\n",
    "print()"
   ]
  },
  {
   "cell_type": "markdown",
   "id": "hE-9FvzpJwhJ",
   "metadata": {
    "id": "hE-9FvzpJwhJ"
   },
   "source": [
    "Random forest has the closest train and test accuracy score with very slight overfitting, the test score is at 0.82<br>\n",
    "Logistic regression has the highest different of train and test accuracy score with overfitting, but it has the best test accuracy score of 0.85.<br>\n",
    "Multinomial naive bayes has slight overfitting as well and its test score is at 0.82 <br>\n",
    "Among the 3 models, Logistic regression together with CountVectorizer is the best model in terms of accuracy score.\n"
   ]
  },
  {
   "cell_type": "code",
   "execution_count": 42,
   "id": "dkjVK7rcAryr",
   "metadata": {
    "id": "dkjVK7rcAryr"
   },
   "outputs": [],
   "source": [
    "def confusion_mat(model, title):\n",
    "    preds = model.predict(X_test)\n",
    "    tn, fp, fn, tp = confusion_matrix(y_test, preds).ravel()\n",
    "    plot_confusion_matrix(model, X_test, y_test, cmap='Blues', values_format = 'd', \n",
    "                          display_labels=['Amazon Prime Video', 'Netflix\\n'])\n",
    "    plt.title(title + '\\n', size=14) ;\n",
    "    print(f'True Positive: {tp}')\n",
    "    print(f'True Negative: {tn}')\n",
    "    print(f'False Positive: {fp}')\n",
    "    print(f'False Negative: {fn}')\n",
    "    print()\n",
    "    print(f'Accuracy: {accuracy_score(y_test, preds):.3f}')\n",
    "    print(f'Sensitivity(recall): {recall_score(y_test, preds):.3f}')\n",
    "    print(f'Specificity: {(tn/(tn+fp)):.3f}')\n",
    "    print(f'Precision: {precision_score(y_test, preds):.3f}')\n",
    "    print()"
   ]
  },
  {
   "cell_type": "markdown",
   "id": "ZdSO7terOrm9",
   "metadata": {
    "id": "ZdSO7terOrm9"
   },
   "source": [
    "I have created a function to further look at other performances metrics such as sensitivity, specificity and precision. Though I'm choosing the model based on accuracy score, it would be good to look at other performance metrics."
   ]
  },
  {
   "cell_type": "code",
   "execution_count": 43,
   "id": "UuSQgCxwEO5x",
   "metadata": {
    "colab": {
     "base_uri": "https://localhost:8080/",
     "height": 502
    },
    "id": "UuSQgCxwEO5x",
    "outputId": "b648c8bc-48b4-4caf-afbd-1ecb5aad230d"
   },
   "outputs": [
    {
     "name": "stdout",
     "output_type": "stream",
     "text": [
      "True Positive: 287\n",
      "True Negative: 238\n",
      "False Positive: 87\n",
      "False Negative: 32\n",
      "\n",
      "Accuracy: 0.815\n",
      "Sensitivity(recall): 0.900\n",
      "Specificity: 0.732\n",
      "Precision: 0.767\n",
      "\n"
     ]
    },
    {
     "data": {
      "image/png": "[encoded data removed]",
      "text/plain": [
       "<Figure size 432x288 with 2 Axes>"
      ]
     },
     "metadata": {
      "needs_background": "light"
     },
     "output_type": "display_data"
    }
   ],
   "source": [
    "confusion_mat(gs_rf, 'Random Forest')"
   ]
  },
  {
   "cell_type": "code",
   "execution_count": 44,
   "id": "JJGVW5rMEOtN",
   "metadata": {
    "colab": {
     "base_uri": "https://localhost:8080/",
     "height": 502
    },
    "id": "JJGVW5rMEOtN",
    "outputId": "b6f8c566-b935-4df9-a33e-810b173141e6"
   },
   "outputs": [
    {
     "name": "stdout",
     "output_type": "stream",
     "text": [
      "True Positive: 271\n",
      "True Negative: 282\n",
      "False Positive: 43\n",
      "False Negative: 48\n",
      "\n",
      "Accuracy: 0.859\n",
      "Sensitivity(recall): 0.850\n",
      "Specificity: 0.868\n",
      "Precision: 0.863\n",
      "\n"
     ]
    },
    {
     "data": {
      "image/png": "[encoded data removed]",
      "text/plain": [
       "<Figure size 432x288 with 2 Axes>"
      ]
     },
     "metadata": {
      "needs_background": "light"
     },
     "output_type": "display_data"
    }
   ],
   "source": [
    "confusion_mat(gs_lr, 'Logistic Regression')"
   ]
  },
  {
   "cell_type": "code",
   "execution_count": 45,
   "id": "JGbiZRJIEOXa",
   "metadata": {
    "colab": {
     "base_uri": "https://localhost:8080/",
     "height": 502
    },
    "id": "JGbiZRJIEOXa",
    "outputId": "bd1dddbc-cd55-43d9-a18b-c28caa6e5f9e"
   },
   "outputs": [
    {
     "name": "stdout",
     "output_type": "stream",
     "text": [
      "True Positive: 247\n",
      "True Negative: 277\n",
      "False Positive: 48\n",
      "False Negative: 72\n",
      "\n",
      "Accuracy: 0.814\n",
      "Sensitivity(recall): 0.774\n",
      "Specificity: 0.852\n",
      "Precision: 0.837\n",
      "\n"
     ]
    },
    {
     "data": {
      "image/png": "[encoded data removed]",
      "text/plain": [
       "<Figure size 432x288 with 2 Axes>"
      ]
     },
     "metadata": {
      "needs_background": "light"
     },
     "output_type": "display_data"
    }
   ],
   "source": [
    "confusion_mat(gs_nb, 'Multinomial Naive Bayes')"
   ]
  },
  {
   "cell_type": "markdown",
   "id": "_bb4lQtrQrrJ",
   "metadata": {
    "id": "_bb4lQtrQrrJ"
   },
   "source": [
    "Looking at the confusion matrix, Logistic regression has the lowest combined sum of False Positives and Negatives at 46+48=94, whereas Random forest has total 114 False Positives and Negatives, Multinomial Naive Bayes has total 115 False Positives and Negatives. <br>\n",
    "Logistic regression with CountVectorizer has the best balance of recall, specificity and precision scores, which further confirm that it's the best model to classify Amazon Prime Video and Netflix subreddits.\n"
   ]
  },
  {
   "cell_type": "markdown",
   "id": "tC7zA_GjHz-h",
   "metadata": {
    "id": "tC7zA_GjHz-h"
   },
   "source": [
    "## **Conclusions and recommendations**"
   ]
  },
  {
   "cell_type": "markdown",
   "id": "a408420b",
   "metadata": {
    "id": "9UjyGziMH7hU"
   },
   "source": [
    "Based on the results of the 3 models, I would recommend Logistic regression with CountVectorizer to do the classification of Netflix and Amazon Prime Video subreddits which will help with categorising current and future WhatToWatch posts with at least 85% accuracy.  <br>\n",
    "To increase the accuracy further, I will pull more data and see if the score can be improved. Compared to the baseline accuracy of 50%, Logistic regression is a good model to classify and predict the posts as it has a higher accuracy of 85% <br>\n",
    "I will also consider looking at other reputable sources other than subreddits and use its data as a standalone or combine with the existing subreddits' data to see if the accuracy score can be improved.\n",
    "\n",
    "Being part of Skippy data science team, I can use this model to address other clients' classification problems by pulling the data they want to reference to and use Logistic regression with CountVectorizer. The limitation of Logistic regression is that it only work for two-class classification problems, therefore, if I want to classify more than 2 categories/classes, this model would not be suitable. In that case, I would need to consider using Random forest, Multinomial Naive Bayes or even introduce a new model - Multinomial logistic regression and see which model works better for multi-class classification.<br>"
   ]
  }
 ],
 "metadata": {
  "colab": {
   "collapsed_sections": [],
   "name": "Project 3.ipynb",
   "provenance": [],
   "toc_visible": true
  },
  "kernelspec": {
   "display_name": "Python 3",
   "language": "python",
   "name": "python3"
  },
  "language_info": {
   "codemirror_mode": {
    "name": "ipython",
    "version": 3
   },
   "file_extension": ".py",
   "mimetype": "text/x-python",
   "name": "python",
   "nbconvert_exporter": "python",
   "pygments_lexer": "ipython3",
   "version": "3.8.8"
  }
 },
 "nbformat": 4,
 "nbformat_minor": 5
}
